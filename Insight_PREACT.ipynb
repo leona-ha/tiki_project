{
 "cells": [
  {
   "cell_type": "markdown",
   "metadata": {},
   "source": []
  },
  {
   "cell_type": "raw",
   "metadata": {
    "vscode": {
     "languageId": "raw"
    }
   },
   "source": [
    "---\n",
    "title: \"PREACT: Data Compliance and Quality\"\n",
    "author: \"Leona Hammelrath\"\n",
    "date: \"15 April 2024\"\n",
    "toc: true\n",
    "number-sections: true\n",
    "\n",
    "format: html\n",
    "execute:\n",
    "    eval: true\n",
    "jupyter: python3\n",
    "---"
   ]
  },
  {
   "cell_type": "markdown",
   "metadata": {},
   "source": [
    "## Abstract\n",
    "\n",
    "First Data for Passive Data Collection using Smartwatches and GPS from the PREACT Study. \n",
    "\n",
    "## Introduction\n",
    "\n",
    "Treatment personalization is highly discussed to counteract insufficient response rates in psychotherapy. In the quest for criteria allowing informed selection or adaptation, ambulatory assessment data (i.e. EMA, passive sensing)are a key component, as processes happening outside of therapy sessions can be depicted in high temporal and/or spatial resolution.\n",
    "\n",
    "PREACT is a multicenter prospective-longitudinal study investigating different predictors of non-response (i.e. EEG, fMRI) in around 500 patients undergoing cognitive behavioral therapy for internalizing disorders (https://forschungsgruppe5187.de/de). \n",
    "\n",
    "## Methods\n",
    "Patients can enroll for therapy-accompanying ambulatory assessment. They are provided with a customized study app and a state-of-the-art smartwatch collecting passive data like GPS and heart rate for up to 365 days. In parallel, three 14-day EMA phases (pre-, mid- and post-therapy) cover transdiagnostic (i.e. emotion regulation), contextual and therapy-related aspects.  \n",
    "\n",
    "Here, we present first results on data compliance and quality for the passive sensing data as well as EMA assessments. The results are based on data that was downloaded on **15.04.2024**.\n",
    "\n",
    "## Results\n",
    "\n"
   ]
  },
  {
   "cell_type": "code",
   "execution_count": 1,
   "metadata": {},
   "outputs": [],
   "source": [
    "import os\n",
    "import glob\n",
    "import pickle\n",
    "from IPython.display import Markdown\n",
    "\n",
    "\n",
    "import pandas as pd\n",
    "import datetime as dt\n",
    "from datetime import date, datetime\n",
    "import numpy as np\n",
    "from scipy.stats import kruskal\n",
    "\n",
    "import matplotlib.pyplot as plt\n",
    "import seaborn as sns\n",
    "import plotly.io as pio\n",
    "import plotly.express as px\n",
    "from plotly.subplots import make_subplots\n",
    "import plotly.graph_objects as go\n",
    "\n",
    "from config import datapath, proj_sheet\n",
    "import help_functions \n",
    "\n",
    "today = \"15042024\"\n",
    "\n",
    "# load data\n",
    "\n",
    "with open(datapath + f'/ema_data_{today}.pkl', 'rb') as file:\n",
    "    df_active = pickle.load(file)\n",
    "\n",
    "with open(datapath + f'/gps_data_{today}.pkl', 'rb') as file:\n",
    "    df_gps = pickle.load(file)\n",
    "    \n",
    "with open(datapath + f'/passive_data_{today}.pkl', 'rb') as file:\n",
    "    df_passive = pickle.load(file)\n",
    "\n",
    "with open(datapath + f'/monitoring_data_{today}.pkl', 'rb') as file:\n",
    "    df_monitoring = pickle.load(file)\n"
   ]
  },
  {
   "cell_type": "markdown",
   "metadata": {},
   "source": [
    "### Demographics"
   ]
  },
  {
   "cell_type": "code",
   "execution_count": 2,
   "metadata": {},
   "outputs": [
    {
     "data": {
      "text/markdown": [
       "| Variable                                                      | Overall        | Min   | Max    | Missing (%)   |\n",
       "|:--------------------------------------------------------------|:---------------|:------|:-------|:--------------|\n",
       "| **age, mean (SD)**                                            | 32.45 (10.88)  | 19.00 | 65.00  | 13 (6.31%)    |\n",
       "| **bsi_gsi, mean (SD)**                                        | 1.30 (0.57)    | 0.32  | 3.68   | 25 (12.14%)   |\n",
       "| **ses, mean (SD)**                                            | 2.32 (1.03)    | 1.00  | 5.00   | 13 (6.31%)    |\n",
       "| **costs_ema_burden, mean (SD)**                               | 2.64 (1.09)    | 1.00  | 5.00   | 91 (44.17%)   |\n",
       "| **costs_ema_min, mean (SD)**                                  | 90.47 (178.43) | 1.00  | 999.00 | 100 (48.54%)  |\n",
       "| **gender_description**                                        |                |       |        | 13 (6.31%)    |\n",
       "| female, n (%)                                                 | 118 (61.14%)   |       |        |               |\n",
       "| male, n (%)                                                   | 69 (35.75%)    |       |        |               |\n",
       "| not specified, n (%)                                          | 3 (1.55%)      |       |        |               |\n",
       "| diverse, n (%)                                                | 2 (1.04%)      |       |        |               |\n",
       "| no gender, n (%)                                              | 1 (0.52%)      |       |        |               |\n",
       "| **scid_cv_description**                                       |                |       |        | 14 (6.80%)    |\n",
       "| Depressive Disorder, n (%)                                    | 92 (47.92%)    |       |        |               |\n",
       "| Social Anxiety Disorder, n (%)                                | 32 (16.67%)    |       |        |               |\n",
       "| Obsessive-Compulsive Disorder, n (%)                          | 27 (14.06%)    |       |        |               |\n",
       "| Generalized Anxiety Disorder, n (%)                           | 15 (7.81%)     |       |        |               |\n",
       "| Agoraphobia and/or Panic Disorder, n (%)                      | 11 (5.73%)     |       |        |               |\n",
       "| Post-Traumatic Stress Disorder, n (%)                         | 11 (5.73%)     |       |        |               |\n",
       "| Specific Phobia, n (%)                                        | 4 (2.08%)      |       |        |               |\n",
       "| **ema_smartphone_description**                                |                |       |        | 0 (0.00%)     |\n",
       "| iPhone, n (%)                                                 | 109 (52.91%)   |       |        |               |\n",
       "| Android, n (%)                                                | 97 (47.09%)    |       |        |               |\n",
       "| **employability_description**                                 |                |       |        | 13 (6.31%)    |\n",
       "| employable, n (%)                                             | 161 (83.42%)   |       |        |               |\n",
       "| unemployable (on sick leave), n (%)                           | 22 (11.4%)     |       |        |               |\n",
       "| other, n (%)                                                  | 5 (2.59%)      |       |        |               |\n",
       "| on disability pension, n (%)                                  | 5 (2.59%)      |       |        |               |\n",
       "| **prior_treatment_description**                               |                |       |        | 13 (6.31%)    |\n",
       "| no prior treatment, n (%)                                     | 76 (39.38%)    |       |        |               |\n",
       "| outpatient psychotherapy, n (%)                               | 65 (33.68%)    |       |        |               |\n",
       "| both, n (%)                                                   | 30 (15.54%)    |       |        |               |\n",
       "| inpatient or partial inpatient treatment/psychotherapy, n (%) | 15 (7.77%)     |       |        |               |\n",
       "| yes, n (%)                                                    | 7 (3.63%)      |       |        |               |\n",
       "| **ema_wear_exp**                                              |                |       |        | 20 (9.71%)    |\n",
       "| 0.0, n (%)                                                    | 109 (58.6%)    |       |        |               |\n",
       "| 1.0, n (%)                                                    | 77 (41.4%)     |       |        |               |\n",
       "| **ema_special_event_description**                             |                |       |        | 0 (0.00%)     |\n",
       "| usual, n (%)                                                  | 150 (72.82%)   |       |        |               |\n",
       "| special event, n (%)                                          | 56 (27.18%)    |       |        |               |"
      ],
      "text/plain": [
       "<IPython.core.display.Markdown object>"
      ]
     },
     "metadata": {},
     "output_type": "display_data"
    }
   ],
   "source": [
    "# Specify your variables\n",
    "continuous_vars = ['age', 'bsi_gsi', 'ses', 'costs_ema_burden', 'costs_ema_min']\n",
    "categorical_vars = ['gender_description', 'scid_cv_description', 'ema_smartphone_description', 'employability_description',\n",
    "                   'prior_treatment_description', 'ema_wear_exp', 'ema_special_event_description']\n",
    "\n",
    "\n",
    "# Create the table\n",
    "demographic_table = help_functions.format_demographics(df_monitoring, continuous_vars, categorical_vars)\n",
    "\n",
    "# Output as Markdown\n",
    "# Convert to Markdown and display\n",
    "markdown_output = demographic_table.to_markdown()\n",
    "display(Markdown(markdown_output))"
   ]
  },
  {
   "cell_type": "code",
   "execution_count": 3,
   "metadata": {},
   "outputs": [
    {
     "data": {
      "text/html": [
       "        <script type=\"text/javascript\">\n",
       "        window.PlotlyConfig = {MathJaxConfig: 'local'};\n",
       "        if (window.MathJax && window.MathJax.Hub && window.MathJax.Hub.Config) {window.MathJax.Hub.Config({SVG: {font: \"STIX-Web\"}});}\n",
       "        if (typeof require !== 'undefined') {\n",
       "        require.undef(\"plotly\");\n",
       "        requirejs.config({\n",
       "            paths: {\n",
       "                'plotly': ['https://cdn.plot.ly/plotly-2.12.1.min']\n",
       "            }\n",
       "        });\n",
       "        require(['plotly'], function(Plotly) {\n",
       "            window._Plotly = Plotly;\n",
       "        });\n",
       "        }\n",
       "        </script>\n",
       "        "
      ]
     },
     "metadata": {},
     "output_type": "display_data"
    },
    {
     "data": {
      "text/html": [
       "<div>                            <div id=\"31f843f1-ae94-48f2-b56c-619964c88f83\" class=\"plotly-graph-div\" style=\"height:525px; width:100%;\"></div>            <script type=\"text/javascript\">                require([\"plotly\"], function(Plotly) {                    window.PLOTLYENV=window.PLOTLYENV || {};                                    if (document.getElementById(\"31f843f1-ae94-48f2-b56c-619964c88f83\")) {                    Plotly.newPlot(                        \"31f843f1-ae94-48f2-b56c-619964c88f83\",                        [{\"domain\":{\"x\":[0.0,1.0],\"y\":[0.0,1.0]},\"hovertemplate\":\"SCID Category=%{label}<br>Counts=%{value}<extra></extra>\",\"labels\":[\"Depressive Disorder\",\"Social Anxiety Disorder\",\"Obsessive-Compulsive Disorder\",\"Generalized Anxiety Disorder\",\"Agoraphobia and/or Panic Disorder\",\"Post-Traumatic Stress Disorder\",\"Specific Phobia\"],\"legendgroup\":\"\",\"name\":\"\",\"showlegend\":true,\"values\":[92,32,27,15,11,11,4],\"type\":\"pie\",\"textinfo\":\"percent+label\",\"textposition\":\"outside\"}],                        {\"template\":{\"data\":{\"histogram2dcontour\":[{\"type\":\"histogram2dcontour\",\"colorbar\":{\"outlinewidth\":0,\"ticks\":\"\"},\"colorscale\":[[0.0,\"#0d0887\"],[0.1111111111111111,\"#46039f\"],[0.2222222222222222,\"#7201a8\"],[0.3333333333333333,\"#9c179e\"],[0.4444444444444444,\"#bd3786\"],[0.5555555555555556,\"#d8576b\"],[0.6666666666666666,\"#ed7953\"],[0.7777777777777778,\"#fb9f3a\"],[0.8888888888888888,\"#fdca26\"],[1.0,\"#f0f921\"]]}],\"choropleth\":[{\"type\":\"choropleth\",\"colorbar\":{\"outlinewidth\":0,\"ticks\":\"\"}}],\"histogram2d\":[{\"type\":\"histogram2d\",\"colorbar\":{\"outlinewidth\":0,\"ticks\":\"\"},\"colorscale\":[[0.0,\"#0d0887\"],[0.1111111111111111,\"#46039f\"],[0.2222222222222222,\"#7201a8\"],[0.3333333333333333,\"#9c179e\"],[0.4444444444444444,\"#bd3786\"],[0.5555555555555556,\"#d8576b\"],[0.6666666666666666,\"#ed7953\"],[0.7777777777777778,\"#fb9f3a\"],[0.8888888888888888,\"#fdca26\"],[1.0,\"#f0f921\"]]}],\"heatmap\":[{\"type\":\"heatmap\",\"colorbar\":{\"outlinewidth\":0,\"ticks\":\"\"},\"colorscale\":[[0.0,\"#0d0887\"],[0.1111111111111111,\"#46039f\"],[0.2222222222222222,\"#7201a8\"],[0.3333333333333333,\"#9c179e\"],[0.4444444444444444,\"#bd3786\"],[0.5555555555555556,\"#d8576b\"],[0.6666666666666666,\"#ed7953\"],[0.7777777777777778,\"#fb9f3a\"],[0.8888888888888888,\"#fdca26\"],[1.0,\"#f0f921\"]]}],\"heatmapgl\":[{\"type\":\"heatmapgl\",\"colorbar\":{\"outlinewidth\":0,\"ticks\":\"\"},\"colorscale\":[[0.0,\"#0d0887\"],[0.1111111111111111,\"#46039f\"],[0.2222222222222222,\"#7201a8\"],[0.3333333333333333,\"#9c179e\"],[0.4444444444444444,\"#bd3786\"],[0.5555555555555556,\"#d8576b\"],[0.6666666666666666,\"#ed7953\"],[0.7777777777777778,\"#fb9f3a\"],[0.8888888888888888,\"#fdca26\"],[1.0,\"#f0f921\"]]}],\"contourcarpet\":[{\"type\":\"contourcarpet\",\"colorbar\":{\"outlinewidth\":0,\"ticks\":\"\"}}],\"contour\":[{\"type\":\"contour\",\"colorbar\":{\"outlinewidth\":0,\"ticks\":\"\"},\"colorscale\":[[0.0,\"#0d0887\"],[0.1111111111111111,\"#46039f\"],[0.2222222222222222,\"#7201a8\"],[0.3333333333333333,\"#9c179e\"],[0.4444444444444444,\"#bd3786\"],[0.5555555555555556,\"#d8576b\"],[0.6666666666666666,\"#ed7953\"],[0.7777777777777778,\"#fb9f3a\"],[0.8888888888888888,\"#fdca26\"],[1.0,\"#f0f921\"]]}],\"surface\":[{\"type\":\"surface\",\"colorbar\":{\"outlinewidth\":0,\"ticks\":\"\"},\"colorscale\":[[0.0,\"#0d0887\"],[0.1111111111111111,\"#46039f\"],[0.2222222222222222,\"#7201a8\"],[0.3333333333333333,\"#9c179e\"],[0.4444444444444444,\"#bd3786\"],[0.5555555555555556,\"#d8576b\"],[0.6666666666666666,\"#ed7953\"],[0.7777777777777778,\"#fb9f3a\"],[0.8888888888888888,\"#fdca26\"],[1.0,\"#f0f921\"]]}],\"mesh3d\":[{\"type\":\"mesh3d\",\"colorbar\":{\"outlinewidth\":0,\"ticks\":\"\"}}],\"scatter\":[{\"fillpattern\":{\"fillmode\":\"overlay\",\"size\":10,\"solidity\":0.2},\"type\":\"scatter\"}],\"parcoords\":[{\"type\":\"parcoords\",\"line\":{\"colorbar\":{\"outlinewidth\":0,\"ticks\":\"\"}}}],\"scatterpolargl\":[{\"type\":\"scatterpolargl\",\"marker\":{\"colorbar\":{\"outlinewidth\":0,\"ticks\":\"\"}}}],\"bar\":[{\"error_x\":{\"color\":\"#2a3f5f\"},\"error_y\":{\"color\":\"#2a3f5f\"},\"marker\":{\"line\":{\"color\":\"#E5ECF6\",\"width\":0.5},\"pattern\":{\"fillmode\":\"overlay\",\"size\":10,\"solidity\":0.2}},\"type\":\"bar\"}],\"scattergeo\":[{\"type\":\"scattergeo\",\"marker\":{\"colorbar\":{\"outlinewidth\":0,\"ticks\":\"\"}}}],\"scatterpolar\":[{\"type\":\"scatterpolar\",\"marker\":{\"colorbar\":{\"outlinewidth\":0,\"ticks\":\"\"}}}],\"histogram\":[{\"marker\":{\"pattern\":{\"fillmode\":\"overlay\",\"size\":10,\"solidity\":0.2}},\"type\":\"histogram\"}],\"scattergl\":[{\"type\":\"scattergl\",\"marker\":{\"colorbar\":{\"outlinewidth\":0,\"ticks\":\"\"}}}],\"scatter3d\":[{\"type\":\"scatter3d\",\"line\":{\"colorbar\":{\"outlinewidth\":0,\"ticks\":\"\"}},\"marker\":{\"colorbar\":{\"outlinewidth\":0,\"ticks\":\"\"}}}],\"scattermapbox\":[{\"type\":\"scattermapbox\",\"marker\":{\"colorbar\":{\"outlinewidth\":0,\"ticks\":\"\"}}}],\"scatterternary\":[{\"type\":\"scatterternary\",\"marker\":{\"colorbar\":{\"outlinewidth\":0,\"ticks\":\"\"}}}],\"scattercarpet\":[{\"type\":\"scattercarpet\",\"marker\":{\"colorbar\":{\"outlinewidth\":0,\"ticks\":\"\"}}}],\"carpet\":[{\"aaxis\":{\"endlinecolor\":\"#2a3f5f\",\"gridcolor\":\"white\",\"linecolor\":\"white\",\"minorgridcolor\":\"white\",\"startlinecolor\":\"#2a3f5f\"},\"baxis\":{\"endlinecolor\":\"#2a3f5f\",\"gridcolor\":\"white\",\"linecolor\":\"white\",\"minorgridcolor\":\"white\",\"startlinecolor\":\"#2a3f5f\"},\"type\":\"carpet\"}],\"table\":[{\"cells\":{\"fill\":{\"color\":\"#EBF0F8\"},\"line\":{\"color\":\"white\"}},\"header\":{\"fill\":{\"color\":\"#C8D4E3\"},\"line\":{\"color\":\"white\"}},\"type\":\"table\"}],\"barpolar\":[{\"marker\":{\"line\":{\"color\":\"#E5ECF6\",\"width\":0.5},\"pattern\":{\"fillmode\":\"overlay\",\"size\":10,\"solidity\":0.2}},\"type\":\"barpolar\"}],\"pie\":[{\"automargin\":true,\"type\":\"pie\"}]},\"layout\":{\"autotypenumbers\":\"strict\",\"colorway\":[\"#636efa\",\"#EF553B\",\"#00cc96\",\"#ab63fa\",\"#FFA15A\",\"#19d3f3\",\"#FF6692\",\"#B6E880\",\"#FF97FF\",\"#FECB52\"],\"font\":{\"color\":\"#2a3f5f\"},\"hovermode\":\"closest\",\"hoverlabel\":{\"align\":\"left\"},\"paper_bgcolor\":\"white\",\"plot_bgcolor\":\"#E5ECF6\",\"polar\":{\"bgcolor\":\"#E5ECF6\",\"angularaxis\":{\"gridcolor\":\"white\",\"linecolor\":\"white\",\"ticks\":\"\"},\"radialaxis\":{\"gridcolor\":\"white\",\"linecolor\":\"white\",\"ticks\":\"\"}},\"ternary\":{\"bgcolor\":\"#E5ECF6\",\"aaxis\":{\"gridcolor\":\"white\",\"linecolor\":\"white\",\"ticks\":\"\"},\"baxis\":{\"gridcolor\":\"white\",\"linecolor\":\"white\",\"ticks\":\"\"},\"caxis\":{\"gridcolor\":\"white\",\"linecolor\":\"white\",\"ticks\":\"\"}},\"coloraxis\":{\"colorbar\":{\"outlinewidth\":0,\"ticks\":\"\"}},\"colorscale\":{\"sequential\":[[0.0,\"#0d0887\"],[0.1111111111111111,\"#46039f\"],[0.2222222222222222,\"#7201a8\"],[0.3333333333333333,\"#9c179e\"],[0.4444444444444444,\"#bd3786\"],[0.5555555555555556,\"#d8576b\"],[0.6666666666666666,\"#ed7953\"],[0.7777777777777778,\"#fb9f3a\"],[0.8888888888888888,\"#fdca26\"],[1.0,\"#f0f921\"]],\"sequentialminus\":[[0.0,\"#0d0887\"],[0.1111111111111111,\"#46039f\"],[0.2222222222222222,\"#7201a8\"],[0.3333333333333333,\"#9c179e\"],[0.4444444444444444,\"#bd3786\"],[0.5555555555555556,\"#d8576b\"],[0.6666666666666666,\"#ed7953\"],[0.7777777777777778,\"#fb9f3a\"],[0.8888888888888888,\"#fdca26\"],[1.0,\"#f0f921\"]],\"diverging\":[[0,\"#8e0152\"],[0.1,\"#c51b7d\"],[0.2,\"#de77ae\"],[0.3,\"#f1b6da\"],[0.4,\"#fde0ef\"],[0.5,\"#f7f7f7\"],[0.6,\"#e6f5d0\"],[0.7,\"#b8e186\"],[0.8,\"#7fbc41\"],[0.9,\"#4d9221\"],[1,\"#276419\"]]},\"xaxis\":{\"gridcolor\":\"white\",\"linecolor\":\"white\",\"ticks\":\"\",\"title\":{\"standoff\":15},\"zerolinecolor\":\"white\",\"automargin\":true,\"zerolinewidth\":2},\"yaxis\":{\"gridcolor\":\"white\",\"linecolor\":\"white\",\"ticks\":\"\",\"title\":{\"standoff\":15},\"zerolinecolor\":\"white\",\"automargin\":true,\"zerolinewidth\":2},\"scene\":{\"xaxis\":{\"backgroundcolor\":\"#E5ECF6\",\"gridcolor\":\"white\",\"linecolor\":\"white\",\"showbackground\":true,\"ticks\":\"\",\"zerolinecolor\":\"white\",\"gridwidth\":2},\"yaxis\":{\"backgroundcolor\":\"#E5ECF6\",\"gridcolor\":\"white\",\"linecolor\":\"white\",\"showbackground\":true,\"ticks\":\"\",\"zerolinecolor\":\"white\",\"gridwidth\":2},\"zaxis\":{\"backgroundcolor\":\"#E5ECF6\",\"gridcolor\":\"white\",\"linecolor\":\"white\",\"showbackground\":true,\"ticks\":\"\",\"zerolinecolor\":\"white\",\"gridwidth\":2}},\"shapedefaults\":{\"line\":{\"color\":\"#2a3f5f\"}},\"annotationdefaults\":{\"arrowcolor\":\"#2a3f5f\",\"arrowhead\":0,\"arrowwidth\":1},\"geo\":{\"bgcolor\":\"white\",\"landcolor\":\"#E5ECF6\",\"subunitcolor\":\"white\",\"showland\":true,\"showlakes\":true,\"lakecolor\":\"white\"},\"title\":{\"x\":0.05},\"mapbox\":{\"style\":\"light\"},\"margin\":{\"b\":0,\"l\":0,\"r\":0,\"t\":30}}},\"legend\":{\"tracegroupgap\":0},\"title\":{\"text\":\"Distribution of SCID Primary Categories\"},\"piecolorway\":[\"rgb(141,211,199)\",\"rgb(255,255,179)\",\"rgb(190,186,218)\",\"rgb(251,128,114)\",\"rgb(128,177,211)\",\"rgb(253,180,98)\",\"rgb(179,222,105)\",\"rgb(252,205,229)\",\"rgb(217,217,217)\",\"rgb(188,128,189)\",\"rgb(204,235,197)\",\"rgb(255,237,111)\"]},                        {\"responsive\": true}                    ).then(function(){\n",
       "                            \n",
       "var gd = document.getElementById('31f843f1-ae94-48f2-b56c-619964c88f83');\n",
       "var x = new MutationObserver(function (mutations, observer) {{\n",
       "        var display = window.getComputedStyle(gd).display;\n",
       "        if (!display || display === 'none') {{\n",
       "            console.log([gd, 'removed!']);\n",
       "            Plotly.purge(gd);\n",
       "            observer.disconnect();\n",
       "        }}\n",
       "}});\n",
       "\n",
       "// Listen for the removal of the full notebook cells\n",
       "var notebookContainer = gd.closest('#notebook-container');\n",
       "if (notebookContainer) {{\n",
       "    x.observe(notebookContainer, {childList: true});\n",
       "}}\n",
       "\n",
       "// Listen for the clearing of the current output cell\n",
       "var outputEl = gd.closest('.output');\n",
       "if (outputEl) {{\n",
       "    x.observe(outputEl, {childList: true});\n",
       "}}\n",
       "\n",
       "                        })                };                });            </script>        </div>"
      ]
     },
     "metadata": {},
     "output_type": "display_data"
    }
   ],
   "source": [
    "# Pie chart for 'scid_cv_description'\n",
    "scid_counts = df_monitoring['scid_cv_description'].value_counts().reset_index()\n",
    "scid_counts.columns = ['SCID_CV_Category', 'Counts']  # Renaming columns for clarity in Plotly\n",
    "\n",
    "fig = px.pie(scid_counts, values='Counts', names='SCID_CV_Category',\n",
    "             title='Distribution of SCID Primary Categories',\n",
    "             color_discrete_sequence=px.colors.qualitative.Set3,\n",
    "             labels={'SCID_CV_Category': 'SCID Category'})  # Labels for hover data\n",
    "\n",
    "fig.update_traces(textposition='outside', textinfo='percent+label')\n",
    "fig.show()"
   ]
  },
  {
   "cell_type": "markdown",
   "metadata": {},
   "source": [
    "### Study status"
   ]
  },
  {
   "cell_type": "code",
   "execution_count": 4,
   "metadata": {},
   "outputs": [
    {
     "data": {
      "text/html": [
       "<div>                            <div id=\"b22ca61d-0cdf-44cf-afb4-253637b40b42\" class=\"plotly-graph-div\" style=\"height:500px; width:1000px;\"></div>            <script type=\"text/javascript\">                require([\"plotly\"], function(Plotly) {                    window.PLOTLYENV=window.PLOTLYENV || {};                                    if (document.getElementById(\"b22ca61d-0cdf-44cf-afb4-253637b40b42\")) {                    Plotly.newPlot(                        \"b22ca61d-0cdf-44cf-afb4-253637b40b42\",                        [{\"marker\":{\"color\":\"lightseagreen\"},\"text\":[131.0,51.0,17.0,7.0],\"textposition\":\"auto\",\"x\":[\"Lang\",\"Kurz\",\"Lang (Wechsel)\",\"Kurz (Wechsel/Abbruch)\"],\"y\":[131,51,17,7],\"type\":\"bar\",\"xaxis\":\"x\",\"yaxis\":\"y\"},{\"marker\":{\"color\":[\"lightseagreen\",\"gray\",\"gray\",\"lightseagreen\",\"lightseagreen\",\"lightseagreen\",\"gray\"]},\"text\":[99.0,54.0,18.0,15.0,13.0,4.0,3.0],\"textposition\":\"auto\",\"x\":[\"Post_Erhebung_1\",\"Abgeschlossen\",\"Dropout\",\"Post_Erhebung_2\",\"Erhebung_1_aktiv\",\"Erhebung_2_aktiv\",\"Pin_missing\"],\"y\":[99,54,18,15,13,4,3],\"type\":\"bar\",\"xaxis\":\"x2\",\"yaxis\":\"y2\"}],                        {\"template\":{\"data\":{\"histogram2dcontour\":[{\"type\":\"histogram2dcontour\",\"colorbar\":{\"outlinewidth\":0,\"ticks\":\"\"},\"colorscale\":[[0.0,\"#0d0887\"],[0.1111111111111111,\"#46039f\"],[0.2222222222222222,\"#7201a8\"],[0.3333333333333333,\"#9c179e\"],[0.4444444444444444,\"#bd3786\"],[0.5555555555555556,\"#d8576b\"],[0.6666666666666666,\"#ed7953\"],[0.7777777777777778,\"#fb9f3a\"],[0.8888888888888888,\"#fdca26\"],[1.0,\"#f0f921\"]]}],\"choropleth\":[{\"type\":\"choropleth\",\"colorbar\":{\"outlinewidth\":0,\"ticks\":\"\"}}],\"histogram2d\":[{\"type\":\"histogram2d\",\"colorbar\":{\"outlinewidth\":0,\"ticks\":\"\"},\"colorscale\":[[0.0,\"#0d0887\"],[0.1111111111111111,\"#46039f\"],[0.2222222222222222,\"#7201a8\"],[0.3333333333333333,\"#9c179e\"],[0.4444444444444444,\"#bd3786\"],[0.5555555555555556,\"#d8576b\"],[0.6666666666666666,\"#ed7953\"],[0.7777777777777778,\"#fb9f3a\"],[0.8888888888888888,\"#fdca26\"],[1.0,\"#f0f921\"]]}],\"heatmap\":[{\"type\":\"heatmap\",\"colorbar\":{\"outlinewidth\":0,\"ticks\":\"\"},\"colorscale\":[[0.0,\"#0d0887\"],[0.1111111111111111,\"#46039f\"],[0.2222222222222222,\"#7201a8\"],[0.3333333333333333,\"#9c179e\"],[0.4444444444444444,\"#bd3786\"],[0.5555555555555556,\"#d8576b\"],[0.6666666666666666,\"#ed7953\"],[0.7777777777777778,\"#fb9f3a\"],[0.8888888888888888,\"#fdca26\"],[1.0,\"#f0f921\"]]}],\"heatmapgl\":[{\"type\":\"heatmapgl\",\"colorbar\":{\"outlinewidth\":0,\"ticks\":\"\"},\"colorscale\":[[0.0,\"#0d0887\"],[0.1111111111111111,\"#46039f\"],[0.2222222222222222,\"#7201a8\"],[0.3333333333333333,\"#9c179e\"],[0.4444444444444444,\"#bd3786\"],[0.5555555555555556,\"#d8576b\"],[0.6666666666666666,\"#ed7953\"],[0.7777777777777778,\"#fb9f3a\"],[0.8888888888888888,\"#fdca26\"],[1.0,\"#f0f921\"]]}],\"contourcarpet\":[{\"type\":\"contourcarpet\",\"colorbar\":{\"outlinewidth\":0,\"ticks\":\"\"}}],\"contour\":[{\"type\":\"contour\",\"colorbar\":{\"outlinewidth\":0,\"ticks\":\"\"},\"colorscale\":[[0.0,\"#0d0887\"],[0.1111111111111111,\"#46039f\"],[0.2222222222222222,\"#7201a8\"],[0.3333333333333333,\"#9c179e\"],[0.4444444444444444,\"#bd3786\"],[0.5555555555555556,\"#d8576b\"],[0.6666666666666666,\"#ed7953\"],[0.7777777777777778,\"#fb9f3a\"],[0.8888888888888888,\"#fdca26\"],[1.0,\"#f0f921\"]]}],\"surface\":[{\"type\":\"surface\",\"colorbar\":{\"outlinewidth\":0,\"ticks\":\"\"},\"colorscale\":[[0.0,\"#0d0887\"],[0.1111111111111111,\"#46039f\"],[0.2222222222222222,\"#7201a8\"],[0.3333333333333333,\"#9c179e\"],[0.4444444444444444,\"#bd3786\"],[0.5555555555555556,\"#d8576b\"],[0.6666666666666666,\"#ed7953\"],[0.7777777777777778,\"#fb9f3a\"],[0.8888888888888888,\"#fdca26\"],[1.0,\"#f0f921\"]]}],\"mesh3d\":[{\"type\":\"mesh3d\",\"colorbar\":{\"outlinewidth\":0,\"ticks\":\"\"}}],\"scatter\":[{\"fillpattern\":{\"fillmode\":\"overlay\",\"size\":10,\"solidity\":0.2},\"type\":\"scatter\"}],\"parcoords\":[{\"type\":\"parcoords\",\"line\":{\"colorbar\":{\"outlinewidth\":0,\"ticks\":\"\"}}}],\"scatterpolargl\":[{\"type\":\"scatterpolargl\",\"marker\":{\"colorbar\":{\"outlinewidth\":0,\"ticks\":\"\"}}}],\"bar\":[{\"error_x\":{\"color\":\"#2a3f5f\"},\"error_y\":{\"color\":\"#2a3f5f\"},\"marker\":{\"line\":{\"color\":\"#E5ECF6\",\"width\":0.5},\"pattern\":{\"fillmode\":\"overlay\",\"size\":10,\"solidity\":0.2}},\"type\":\"bar\"}],\"scattergeo\":[{\"type\":\"scattergeo\",\"marker\":{\"colorbar\":{\"outlinewidth\":0,\"ticks\":\"\"}}}],\"scatterpolar\":[{\"type\":\"scatterpolar\",\"marker\":{\"colorbar\":{\"outlinewidth\":0,\"ticks\":\"\"}}}],\"histogram\":[{\"marker\":{\"pattern\":{\"fillmode\":\"overlay\",\"size\":10,\"solidity\":0.2}},\"type\":\"histogram\"}],\"scattergl\":[{\"type\":\"scattergl\",\"marker\":{\"colorbar\":{\"outlinewidth\":0,\"ticks\":\"\"}}}],\"scatter3d\":[{\"type\":\"scatter3d\",\"line\":{\"colorbar\":{\"outlinewidth\":0,\"ticks\":\"\"}},\"marker\":{\"colorbar\":{\"outlinewidth\":0,\"ticks\":\"\"}}}],\"scattermapbox\":[{\"type\":\"scattermapbox\",\"marker\":{\"colorbar\":{\"outlinewidth\":0,\"ticks\":\"\"}}}],\"scatterternary\":[{\"type\":\"scatterternary\",\"marker\":{\"colorbar\":{\"outlinewidth\":0,\"ticks\":\"\"}}}],\"scattercarpet\":[{\"type\":\"scattercarpet\",\"marker\":{\"colorbar\":{\"outlinewidth\":0,\"ticks\":\"\"}}}],\"carpet\":[{\"aaxis\":{\"endlinecolor\":\"#2a3f5f\",\"gridcolor\":\"white\",\"linecolor\":\"white\",\"minorgridcolor\":\"white\",\"startlinecolor\":\"#2a3f5f\"},\"baxis\":{\"endlinecolor\":\"#2a3f5f\",\"gridcolor\":\"white\",\"linecolor\":\"white\",\"minorgridcolor\":\"white\",\"startlinecolor\":\"#2a3f5f\"},\"type\":\"carpet\"}],\"table\":[{\"cells\":{\"fill\":{\"color\":\"#EBF0F8\"},\"line\":{\"color\":\"white\"}},\"header\":{\"fill\":{\"color\":\"#C8D4E3\"},\"line\":{\"color\":\"white\"}},\"type\":\"table\"}],\"barpolar\":[{\"marker\":{\"line\":{\"color\":\"#E5ECF6\",\"width\":0.5},\"pattern\":{\"fillmode\":\"overlay\",\"size\":10,\"solidity\":0.2}},\"type\":\"barpolar\"}],\"pie\":[{\"automargin\":true,\"type\":\"pie\"}]},\"layout\":{\"autotypenumbers\":\"strict\",\"colorway\":[\"#636efa\",\"#EF553B\",\"#00cc96\",\"#ab63fa\",\"#FFA15A\",\"#19d3f3\",\"#FF6692\",\"#B6E880\",\"#FF97FF\",\"#FECB52\"],\"font\":{\"color\":\"#2a3f5f\"},\"hovermode\":\"closest\",\"hoverlabel\":{\"align\":\"left\"},\"paper_bgcolor\":\"white\",\"plot_bgcolor\":\"#E5ECF6\",\"polar\":{\"bgcolor\":\"#E5ECF6\",\"angularaxis\":{\"gridcolor\":\"white\",\"linecolor\":\"white\",\"ticks\":\"\"},\"radialaxis\":{\"gridcolor\":\"white\",\"linecolor\":\"white\",\"ticks\":\"\"}},\"ternary\":{\"bgcolor\":\"#E5ECF6\",\"aaxis\":{\"gridcolor\":\"white\",\"linecolor\":\"white\",\"ticks\":\"\"},\"baxis\":{\"gridcolor\":\"white\",\"linecolor\":\"white\",\"ticks\":\"\"},\"caxis\":{\"gridcolor\":\"white\",\"linecolor\":\"white\",\"ticks\":\"\"}},\"coloraxis\":{\"colorbar\":{\"outlinewidth\":0,\"ticks\":\"\"}},\"colorscale\":{\"sequential\":[[0.0,\"#0d0887\"],[0.1111111111111111,\"#46039f\"],[0.2222222222222222,\"#7201a8\"],[0.3333333333333333,\"#9c179e\"],[0.4444444444444444,\"#bd3786\"],[0.5555555555555556,\"#d8576b\"],[0.6666666666666666,\"#ed7953\"],[0.7777777777777778,\"#fb9f3a\"],[0.8888888888888888,\"#fdca26\"],[1.0,\"#f0f921\"]],\"sequentialminus\":[[0.0,\"#0d0887\"],[0.1111111111111111,\"#46039f\"],[0.2222222222222222,\"#7201a8\"],[0.3333333333333333,\"#9c179e\"],[0.4444444444444444,\"#bd3786\"],[0.5555555555555556,\"#d8576b\"],[0.6666666666666666,\"#ed7953\"],[0.7777777777777778,\"#fb9f3a\"],[0.8888888888888888,\"#fdca26\"],[1.0,\"#f0f921\"]],\"diverging\":[[0,\"#8e0152\"],[0.1,\"#c51b7d\"],[0.2,\"#de77ae\"],[0.3,\"#f1b6da\"],[0.4,\"#fde0ef\"],[0.5,\"#f7f7f7\"],[0.6,\"#e6f5d0\"],[0.7,\"#b8e186\"],[0.8,\"#7fbc41\"],[0.9,\"#4d9221\"],[1,\"#276419\"]]},\"xaxis\":{\"gridcolor\":\"white\",\"linecolor\":\"white\",\"ticks\":\"\",\"title\":{\"standoff\":15},\"zerolinecolor\":\"white\",\"automargin\":true,\"zerolinewidth\":2},\"yaxis\":{\"gridcolor\":\"white\",\"linecolor\":\"white\",\"ticks\":\"\",\"title\":{\"standoff\":15},\"zerolinecolor\":\"white\",\"automargin\":true,\"zerolinewidth\":2},\"scene\":{\"xaxis\":{\"backgroundcolor\":\"#E5ECF6\",\"gridcolor\":\"white\",\"linecolor\":\"white\",\"showbackground\":true,\"ticks\":\"\",\"zerolinecolor\":\"white\",\"gridwidth\":2},\"yaxis\":{\"backgroundcolor\":\"#E5ECF6\",\"gridcolor\":\"white\",\"linecolor\":\"white\",\"showbackground\":true,\"ticks\":\"\",\"zerolinecolor\":\"white\",\"gridwidth\":2},\"zaxis\":{\"backgroundcolor\":\"#E5ECF6\",\"gridcolor\":\"white\",\"linecolor\":\"white\",\"showbackground\":true,\"ticks\":\"\",\"zerolinecolor\":\"white\",\"gridwidth\":2}},\"shapedefaults\":{\"line\":{\"color\":\"#2a3f5f\"}},\"annotationdefaults\":{\"arrowcolor\":\"#2a3f5f\",\"arrowhead\":0,\"arrowwidth\":1},\"geo\":{\"bgcolor\":\"white\",\"landcolor\":\"#E5ECF6\",\"subunitcolor\":\"white\",\"showland\":true,\"showlakes\":true,\"lakecolor\":\"white\"},\"title\":{\"x\":0.05},\"mapbox\":{\"style\":\"light\"},\"margin\":{\"b\":0,\"l\":0,\"r\":0,\"t\":30}}},\"xaxis\":{\"anchor\":\"y\",\"domain\":[0.0,0.45]},\"yaxis\":{\"anchor\":\"x\",\"domain\":[0.0,1.0]},\"xaxis2\":{\"anchor\":\"y2\",\"domain\":[0.55,1.0]},\"yaxis2\":{\"anchor\":\"x2\",\"domain\":[0.0,1.0]},\"annotations\":[{\"font\":{\"size\":16},\"showarrow\":false,\"text\":\"Histogram of Study Versions\",\"x\":0.225,\"xanchor\":\"center\",\"xref\":\"paper\",\"y\":1.0,\"yanchor\":\"bottom\",\"yref\":\"paper\"},{\"font\":{\"size\":16},\"showarrow\":false,\"text\":\"Histogram of Status\",\"x\":0.775,\"xanchor\":\"center\",\"xref\":\"paper\",\"y\":1.0,\"yanchor\":\"bottom\",\"yref\":\"paper\"}],\"title\":{\"text\":\"Study version and study status for N= 204 patients\"},\"showlegend\":false,\"height\":500,\"width\":1000},                        {\"responsive\": true}                    ).then(function(){\n",
       "                            \n",
       "var gd = document.getElementById('b22ca61d-0cdf-44cf-afb4-253637b40b42');\n",
       "var x = new MutationObserver(function (mutations, observer) {{\n",
       "        var display = window.getComputedStyle(gd).display;\n",
       "        if (!display || display === 'none') {{\n",
       "            console.log([gd, 'removed!']);\n",
       "            Plotly.purge(gd);\n",
       "            observer.disconnect();\n",
       "        }}\n",
       "}});\n",
       "\n",
       "// Listen for the removal of the full notebook cells\n",
       "var notebookContainer = gd.closest('#notebook-container');\n",
       "if (notebookContainer) {{\n",
       "    x.observe(notebookContainer, {childList: true});\n",
       "}}\n",
       "\n",
       "// Listen for the clearing of the current output cell\n",
       "var outputEl = gd.closest('.output');\n",
       "if (outputEl) {{\n",
       "    x.observe(outputEl, {childList: true});\n",
       "}}\n",
       "\n",
       "                        })                };                });            </script>        </div>"
      ]
     },
     "metadata": {},
     "output_type": "display_data"
    }
   ],
   "source": [
    "# Creating a subplot layout\n",
    "fig = make_subplots(rows=1, cols=2, subplot_titles=('Histogram of Study Versions', 'Histogram of Status'))\n",
    "total_participants = df_monitoring.customer.nunique()\n",
    "\n",
    "# Histogram for 'study_version'\n",
    "study_version_data = df_monitoring['study_version'].value_counts().reset_index()\n",
    "study_version_data.columns = ['Study Version', 'Counts']\n",
    "fig.add_trace(\n",
    "    go.Bar(\n",
    "        x=study_version_data['Study Version'],\n",
    "        y=study_version_data['Counts'],\n",
    "        marker=dict(color='lightseagreen'),\n",
    "        text=study_version_data['Counts'],\n",
    "        textposition='auto',\n",
    "    ),\n",
    "    row=1, col=1\n",
    ")\n",
    "\n",
    "# Define active statuses\n",
    "active_statuses = ['Erhebung_1_aktiv', 'Post_Erhebung_1', 'Post_Erhebung_2', 'Erhebung_2_aktiv']\n",
    "\n",
    "# Histogram for 'status' with conditional coloring\n",
    "status_data = df_monitoring['status'].value_counts().reset_index()\n",
    "status_data.columns = ['Status', 'Counts']\n",
    "\n",
    "# Generate colors based on condition\n",
    "colors = ['lightseagreen' if status in active_statuses else 'gray' for status in status_data['Status']]\n",
    "\n",
    "fig.add_trace(\n",
    "    go.Bar(\n",
    "        x=status_data['Status'],\n",
    "        y=status_data['Counts'],\n",
    "        marker=dict(color=colors),\n",
    "        text=status_data['Counts'],\n",
    "        textposition='auto',\n",
    "    ),\n",
    "    row=1, col=2\n",
    ")\n",
    "\n",
    "# Update layout settings\n",
    "fig.update_layout(\n",
    "    title_text= f\"Study version and study status for N= {total_participants} patients\",\n",
    "    showlegend=False,\n",
    "    height=500, width=1000\n",
    ")\n",
    "fig.show()"
   ]
  },
  {
   "cell_type": "markdown",
   "metadata": {},
   "source": [
    "### GPS"
   ]
  },
  {
   "cell_type": "code",
   "execution_count": 5,
   "metadata": {},
   "outputs": [],
   "source": [
    "df_gps_merged = df_gps.merge(df_monitoring, on = \"customer\", how=\"inner\")"
   ]
  },
  {
   "cell_type": "code",
   "execution_count": 6,
   "metadata": {},
   "outputs": [],
   "source": [
    "df_gps_coverage = df_gps_merged[[\"customer\", \"data_coverage_per\", \"bsi_gsi\", \"age\", \"ema_smartphone_description\",\n",
    "                                \"scid_cv_description\", \"gender_description\"]].drop_duplicates(subset=[\"customer\"])"
   ]
  },
  {
   "cell_type": "code",
   "execution_count": 7,
   "metadata": {},
   "outputs": [
    {
     "data": {
      "text/html": [
       "<div>                            <div id=\"df948730-a6d3-4242-b590-59cce3f42285\" class=\"plotly-graph-div\" style=\"height:525px; width:100%;\"></div>            <script type=\"text/javascript\">                require([\"plotly\"], function(Plotly) {                    window.PLOTLYENV=window.PLOTLYENV || {};                                    if (document.getElementById(\"df948730-a6d3-4242-b590-59cce3f42285\")) {                    Plotly.newPlot(                        \"df948730-a6d3-4242-b590-59cce3f42285\",                        [{\"alignmentgroup\":\"True\",\"box\":{\"visible\":true},\"hovertemplate\":\"ema_smartphone_description=%{x}<br>data_coverage_per=%{y}<extra></extra>\",\"legendgroup\":\"\",\"marker\":{\"color\":\"#636efa\"},\"name\":\"\",\"offsetgroup\":\"\",\"orientation\":\"v\",\"scalegroup\":\"True\",\"showlegend\":false,\"x\":[\"iPhone\",\"iPhone\",\"Android\",\"Android\",\"iPhone\",\"Android\",\"Android\",\"Android\",\"iPhone\",\"Android\",\"iPhone\",\"iPhone\",\"Android\",\"iPhone\",\"iPhone\",\"iPhone\",\"Android\",\"iPhone\",\"iPhone\",\"Android\",\"iPhone\",\"Android\",\"iPhone\",\"iPhone\",\"iPhone\",\"Android\",\"Android\",\"Android\",\"Android\",\"iPhone\",\"iPhone\",\"Android\",\"Android\",\"Android\",\"Android\",\"iPhone\",\"Android\",\"Android\",\"iPhone\",\"iPhone\",\"Android\",\"iPhone\",\"iPhone\",\"iPhone\",\"Android\",\"iPhone\",\"Android\",\"Android\",\"iPhone\",\"Android\",\"iPhone\",\"Android\",\"iPhone\",\"iPhone\",\"iPhone\",\"iPhone\",\"Android\",\"iPhone\",\"Android\",\"iPhone\",\"iPhone\",\"Android\",\"Android\",\"Android\",\"Android\",\"Android\",\"Android\",\"Android\",\"iPhone\",\"Android\",\"iPhone\",\"Android\",\"iPhone\",\"iPhone\",\"iPhone\",\"Android\",\"iPhone\",\"Android\",\"Android\",\"Android\",\"iPhone\",\"iPhone\",\"Android\",\"iPhone\",\"iPhone\",\"iPhone\",\"iPhone\",\"iPhone\",\"Android\",\"Android\",\"iPhone\",\"Android\",\"iPhone\",\"Android\",\"iPhone\",\"iPhone\",\"Android\",\"iPhone\",\"iPhone\",\"Android\",\"iPhone\",\"iPhone\",\"Android\",\"Android\",\"iPhone\",\"Android\",\"iPhone\",\"Android\",\"iPhone\",\"Android\",\"iPhone\",\"Android\",\"Android\",\"iPhone\",\"iPhone\",\"Android\",\"iPhone\",\"Android\",\"Android\",\"Android\",\"iPhone\",\"Android\",\"iPhone\",\"iPhone\",\"Android\",\"iPhone\",\"iPhone\",\"Android\",\"iPhone\",\"Android\",\"Android\",\"iPhone\",\"Android\",\"iPhone\",\"Android\",\"iPhone\",\"iPhone\",\"Android\",\"Android\",\"Android\",\"Android\",\"Android\",\"Android\",\"iPhone\",\"Android\",\"iPhone\",\"iPhone\",\"Android\",\"iPhone\",\"iPhone\",\"iPhone\",\"iPhone\",\"iPhone\",\"iPhone\",\"Android\",\"iPhone\",\"iPhone\",\"iPhone\",\"Android\",\"iPhone\",\"iPhone\",\"iPhone\",\"iPhone\",\"Android\",\"Android\",\"iPhone\",\"iPhone\",\"iPhone\",\"Android\",\"iPhone\",\"iPhone\",\"iPhone\",\"iPhone\",\"iPhone\",\"iPhone\",\"Android\"],\"x0\":\" \",\"xaxis\":\"x\",\"y\":[87.5,28.104575163398692,12.021857923497267,30.107526881720432,35.22727272727273,7.428571428571429,36.36363636363637,36.206896551724135,12.903225806451612,19.565217391304348,87.79069767441861,0.6172839506172839,15.028901734104046,17.46031746031746,40.98360655737705,10.21505376344086,72.0,82.88770053475936,64.12213740458014,19.12568306010929,96.875,78.3068783068783,74.60317460317461,61.212121212121204,95.23809523809523,33.82352941176471,41.66666666666667,43.90243902439025,3.0864197530864197,79.67914438502673,99.46808510638297,33.5483870967742,29.464285714285715,11.904761904761903,48.888888888888886,77.61194029850746,68.18181818181817,28.169014084507044,17.88617886178862,92.0,0.7874015748031495,97.53086419753086,54.25531914893617,81.02189781021897,76.0,95.18716577540107,45.1219512195122,21.50537634408602,83.42245989304813,33.69565217391305,77.6595744680851,33.33333333333333,81.48148148148148,97.16312056737588,92.52873563218391,92.06349206349206,6.422018348623854,10.967741935483872,19.444444444444446,64.55026455026454,89.44099378881988,2.6785714285714284,30.681818181818183,61.29032258064516,49.18032786885246,44.44444444444444,90.9090909090909,55.223880597014926,90.86021505376344,30.057803468208093,6.569343065693431,2.1164021164021163,9.58904109589041,80.0,90.37433155080214,13.10344827586207,89.78494623655914,92.3076923076923,8.60215053763441,21.98581560283688,83.87096774193549,71.42857142857143,25.97402597402597,7.142857142857142,84.21052631578947,94.8051948051948,71.875,65.60846560846561,1.098901098901099,22.674418604651162,2.0,17.582417582417584,11.510791366906476,3.428571428571429,21.73913043478261,72.97297297297297,57.692307692307686,86.89655172413792,17.72151898734177,25.581395348837212,85.02673796791443,95.13888888888889,16.901408450704224,6.521739130434782,95.45454545454545,3.7593984962406015,12.903225806451612,53.54330708661418,71.12299465240642,58.333333333333336,91.66666666666666,54.395604395604394,26.666666666666668,87.83068783068782,29.72972972972973,50.0,62.589928057553955,33.68983957219251,6.578947368421052,20.855614973262032,85.71428571428571,38.095238095238095,64.70588235294117,40.625,96.29629629629629,98.75,95.0,41.340782122905026,7.936507936507936,46.36871508379888,28.08988764044944,80.26315789473685,28.205128205128204,33.9622641509434,56.00000000000001,96.42857142857143,72.4867724867725,39.884393063583815,54.23728813559322,32.544378698224854,3.428571428571429,18.181818181818183,80.95238095238095,58.730158730158735,84.84848484848484,93.01075268817203,88.26815642458101,18.823529411764707,68.08510638297872,89.01098901098901,83.13253012048193,85.0,86.1271676300578,7.471264367816093,57.25190839694656,84.57446808510637,92.53731343283582,13.445378151260504,26.41509433962264,92.42424242424242,49.2063492063492,73.91304347826086,28.07017543859649,80.95238095238095,43.103448275862064,80.42328042328042,93.10344827586206,87.09677419354838,49.30555555555556,30.88235294117647,28.07017543859649,77.35849056603774,94.97206703910615,30.89430894308943,81.48148148148148,88.37209302325581],\"y0\":\" \",\"yaxis\":\"y\",\"type\":\"violin\"}],                        {\"template\":{\"data\":{\"histogram2dcontour\":[{\"type\":\"histogram2dcontour\",\"colorbar\":{\"outlinewidth\":0,\"ticks\":\"\"},\"colorscale\":[[0.0,\"#0d0887\"],[0.1111111111111111,\"#46039f\"],[0.2222222222222222,\"#7201a8\"],[0.3333333333333333,\"#9c179e\"],[0.4444444444444444,\"#bd3786\"],[0.5555555555555556,\"#d8576b\"],[0.6666666666666666,\"#ed7953\"],[0.7777777777777778,\"#fb9f3a\"],[0.8888888888888888,\"#fdca26\"],[1.0,\"#f0f921\"]]}],\"choropleth\":[{\"type\":\"choropleth\",\"colorbar\":{\"outlinewidth\":0,\"ticks\":\"\"}}],\"histogram2d\":[{\"type\":\"histogram2d\",\"colorbar\":{\"outlinewidth\":0,\"ticks\":\"\"},\"colorscale\":[[0.0,\"#0d0887\"],[0.1111111111111111,\"#46039f\"],[0.2222222222222222,\"#7201a8\"],[0.3333333333333333,\"#9c179e\"],[0.4444444444444444,\"#bd3786\"],[0.5555555555555556,\"#d8576b\"],[0.6666666666666666,\"#ed7953\"],[0.7777777777777778,\"#fb9f3a\"],[0.8888888888888888,\"#fdca26\"],[1.0,\"#f0f921\"]]}],\"heatmap\":[{\"type\":\"heatmap\",\"colorbar\":{\"outlinewidth\":0,\"ticks\":\"\"},\"colorscale\":[[0.0,\"#0d0887\"],[0.1111111111111111,\"#46039f\"],[0.2222222222222222,\"#7201a8\"],[0.3333333333333333,\"#9c179e\"],[0.4444444444444444,\"#bd3786\"],[0.5555555555555556,\"#d8576b\"],[0.6666666666666666,\"#ed7953\"],[0.7777777777777778,\"#fb9f3a\"],[0.8888888888888888,\"#fdca26\"],[1.0,\"#f0f921\"]]}],\"heatmapgl\":[{\"type\":\"heatmapgl\",\"colorbar\":{\"outlinewidth\":0,\"ticks\":\"\"},\"colorscale\":[[0.0,\"#0d0887\"],[0.1111111111111111,\"#46039f\"],[0.2222222222222222,\"#7201a8\"],[0.3333333333333333,\"#9c179e\"],[0.4444444444444444,\"#bd3786\"],[0.5555555555555556,\"#d8576b\"],[0.6666666666666666,\"#ed7953\"],[0.7777777777777778,\"#fb9f3a\"],[0.8888888888888888,\"#fdca26\"],[1.0,\"#f0f921\"]]}],\"contourcarpet\":[{\"type\":\"contourcarpet\",\"colorbar\":{\"outlinewidth\":0,\"ticks\":\"\"}}],\"contour\":[{\"type\":\"contour\",\"colorbar\":{\"outlinewidth\":0,\"ticks\":\"\"},\"colorscale\":[[0.0,\"#0d0887\"],[0.1111111111111111,\"#46039f\"],[0.2222222222222222,\"#7201a8\"],[0.3333333333333333,\"#9c179e\"],[0.4444444444444444,\"#bd3786\"],[0.5555555555555556,\"#d8576b\"],[0.6666666666666666,\"#ed7953\"],[0.7777777777777778,\"#fb9f3a\"],[0.8888888888888888,\"#fdca26\"],[1.0,\"#f0f921\"]]}],\"surface\":[{\"type\":\"surface\",\"colorbar\":{\"outlinewidth\":0,\"ticks\":\"\"},\"colorscale\":[[0.0,\"#0d0887\"],[0.1111111111111111,\"#46039f\"],[0.2222222222222222,\"#7201a8\"],[0.3333333333333333,\"#9c179e\"],[0.4444444444444444,\"#bd3786\"],[0.5555555555555556,\"#d8576b\"],[0.6666666666666666,\"#ed7953\"],[0.7777777777777778,\"#fb9f3a\"],[0.8888888888888888,\"#fdca26\"],[1.0,\"#f0f921\"]]}],\"mesh3d\":[{\"type\":\"mesh3d\",\"colorbar\":{\"outlinewidth\":0,\"ticks\":\"\"}}],\"scatter\":[{\"fillpattern\":{\"fillmode\":\"overlay\",\"size\":10,\"solidity\":0.2},\"type\":\"scatter\"}],\"parcoords\":[{\"type\":\"parcoords\",\"line\":{\"colorbar\":{\"outlinewidth\":0,\"ticks\":\"\"}}}],\"scatterpolargl\":[{\"type\":\"scatterpolargl\",\"marker\":{\"colorbar\":{\"outlinewidth\":0,\"ticks\":\"\"}}}],\"bar\":[{\"error_x\":{\"color\":\"#2a3f5f\"},\"error_y\":{\"color\":\"#2a3f5f\"},\"marker\":{\"line\":{\"color\":\"#E5ECF6\",\"width\":0.5},\"pattern\":{\"fillmode\":\"overlay\",\"size\":10,\"solidity\":0.2}},\"type\":\"bar\"}],\"scattergeo\":[{\"type\":\"scattergeo\",\"marker\":{\"colorbar\":{\"outlinewidth\":0,\"ticks\":\"\"}}}],\"scatterpolar\":[{\"type\":\"scatterpolar\",\"marker\":{\"colorbar\":{\"outlinewidth\":0,\"ticks\":\"\"}}}],\"histogram\":[{\"marker\":{\"pattern\":{\"fillmode\":\"overlay\",\"size\":10,\"solidity\":0.2}},\"type\":\"histogram\"}],\"scattergl\":[{\"type\":\"scattergl\",\"marker\":{\"colorbar\":{\"outlinewidth\":0,\"ticks\":\"\"}}}],\"scatter3d\":[{\"type\":\"scatter3d\",\"line\":{\"colorbar\":{\"outlinewidth\":0,\"ticks\":\"\"}},\"marker\":{\"colorbar\":{\"outlinewidth\":0,\"ticks\":\"\"}}}],\"scattermapbox\":[{\"type\":\"scattermapbox\",\"marker\":{\"colorbar\":{\"outlinewidth\":0,\"ticks\":\"\"}}}],\"scatterternary\":[{\"type\":\"scatterternary\",\"marker\":{\"colorbar\":{\"outlinewidth\":0,\"ticks\":\"\"}}}],\"scattercarpet\":[{\"type\":\"scattercarpet\",\"marker\":{\"colorbar\":{\"outlinewidth\":0,\"ticks\":\"\"}}}],\"carpet\":[{\"aaxis\":{\"endlinecolor\":\"#2a3f5f\",\"gridcolor\":\"white\",\"linecolor\":\"white\",\"minorgridcolor\":\"white\",\"startlinecolor\":\"#2a3f5f\"},\"baxis\":{\"endlinecolor\":\"#2a3f5f\",\"gridcolor\":\"white\",\"linecolor\":\"white\",\"minorgridcolor\":\"white\",\"startlinecolor\":\"#2a3f5f\"},\"type\":\"carpet\"}],\"table\":[{\"cells\":{\"fill\":{\"color\":\"#EBF0F8\"},\"line\":{\"color\":\"white\"}},\"header\":{\"fill\":{\"color\":\"#C8D4E3\"},\"line\":{\"color\":\"white\"}},\"type\":\"table\"}],\"barpolar\":[{\"marker\":{\"line\":{\"color\":\"#E5ECF6\",\"width\":0.5},\"pattern\":{\"fillmode\":\"overlay\",\"size\":10,\"solidity\":0.2}},\"type\":\"barpolar\"}],\"pie\":[{\"automargin\":true,\"type\":\"pie\"}]},\"layout\":{\"autotypenumbers\":\"strict\",\"colorway\":[\"#636efa\",\"#EF553B\",\"#00cc96\",\"#ab63fa\",\"#FFA15A\",\"#19d3f3\",\"#FF6692\",\"#B6E880\",\"#FF97FF\",\"#FECB52\"],\"font\":{\"color\":\"#2a3f5f\"},\"hovermode\":\"closest\",\"hoverlabel\":{\"align\":\"left\"},\"paper_bgcolor\":\"white\",\"plot_bgcolor\":\"#E5ECF6\",\"polar\":{\"bgcolor\":\"#E5ECF6\",\"angularaxis\":{\"gridcolor\":\"white\",\"linecolor\":\"white\",\"ticks\":\"\"},\"radialaxis\":{\"gridcolor\":\"white\",\"linecolor\":\"white\",\"ticks\":\"\"}},\"ternary\":{\"bgcolor\":\"#E5ECF6\",\"aaxis\":{\"gridcolor\":\"white\",\"linecolor\":\"white\",\"ticks\":\"\"},\"baxis\":{\"gridcolor\":\"white\",\"linecolor\":\"white\",\"ticks\":\"\"},\"caxis\":{\"gridcolor\":\"white\",\"linecolor\":\"white\",\"ticks\":\"\"}},\"coloraxis\":{\"colorbar\":{\"outlinewidth\":0,\"ticks\":\"\"}},\"colorscale\":{\"sequential\":[[0.0,\"#0d0887\"],[0.1111111111111111,\"#46039f\"],[0.2222222222222222,\"#7201a8\"],[0.3333333333333333,\"#9c179e\"],[0.4444444444444444,\"#bd3786\"],[0.5555555555555556,\"#d8576b\"],[0.6666666666666666,\"#ed7953\"],[0.7777777777777778,\"#fb9f3a\"],[0.8888888888888888,\"#fdca26\"],[1.0,\"#f0f921\"]],\"sequentialminus\":[[0.0,\"#0d0887\"],[0.1111111111111111,\"#46039f\"],[0.2222222222222222,\"#7201a8\"],[0.3333333333333333,\"#9c179e\"],[0.4444444444444444,\"#bd3786\"],[0.5555555555555556,\"#d8576b\"],[0.6666666666666666,\"#ed7953\"],[0.7777777777777778,\"#fb9f3a\"],[0.8888888888888888,\"#fdca26\"],[1.0,\"#f0f921\"]],\"diverging\":[[0,\"#8e0152\"],[0.1,\"#c51b7d\"],[0.2,\"#de77ae\"],[0.3,\"#f1b6da\"],[0.4,\"#fde0ef\"],[0.5,\"#f7f7f7\"],[0.6,\"#e6f5d0\"],[0.7,\"#b8e186\"],[0.8,\"#7fbc41\"],[0.9,\"#4d9221\"],[1,\"#276419\"]]},\"xaxis\":{\"gridcolor\":\"white\",\"linecolor\":\"white\",\"ticks\":\"\",\"title\":{\"standoff\":15},\"zerolinecolor\":\"white\",\"automargin\":true,\"zerolinewidth\":2},\"yaxis\":{\"gridcolor\":\"white\",\"linecolor\":\"white\",\"ticks\":\"\",\"title\":{\"standoff\":15},\"zerolinecolor\":\"white\",\"automargin\":true,\"zerolinewidth\":2},\"scene\":{\"xaxis\":{\"backgroundcolor\":\"#E5ECF6\",\"gridcolor\":\"white\",\"linecolor\":\"white\",\"showbackground\":true,\"ticks\":\"\",\"zerolinecolor\":\"white\",\"gridwidth\":2},\"yaxis\":{\"backgroundcolor\":\"#E5ECF6\",\"gridcolor\":\"white\",\"linecolor\":\"white\",\"showbackground\":true,\"ticks\":\"\",\"zerolinecolor\":\"white\",\"gridwidth\":2},\"zaxis\":{\"backgroundcolor\":\"#E5ECF6\",\"gridcolor\":\"white\",\"linecolor\":\"white\",\"showbackground\":true,\"ticks\":\"\",\"zerolinecolor\":\"white\",\"gridwidth\":2}},\"shapedefaults\":{\"line\":{\"color\":\"#2a3f5f\"}},\"annotationdefaults\":{\"arrowcolor\":\"#2a3f5f\",\"arrowhead\":0,\"arrowwidth\":1},\"geo\":{\"bgcolor\":\"white\",\"landcolor\":\"#E5ECF6\",\"subunitcolor\":\"white\",\"showland\":true,\"showlakes\":true,\"lakecolor\":\"white\"},\"title\":{\"x\":0.05},\"mapbox\":{\"style\":\"light\"},\"margin\":{\"b\":0,\"l\":0,\"r\":0,\"t\":30}}},\"xaxis\":{\"anchor\":\"y\",\"domain\":[0.0,1.0],\"title\":{\"text\":\"ema_smartphone_description\"}},\"yaxis\":{\"anchor\":\"x\",\"domain\":[0.0,1.0],\"title\":{\"text\":\"data_coverage_per\"}},\"legend\":{\"tracegroupgap\":0},\"title\":{\"text\":\"GPS Coverage per Smartphone\"},\"violinmode\":\"group\"},                        {\"responsive\": true}                    ).then(function(){\n",
       "                            \n",
       "var gd = document.getElementById('df948730-a6d3-4242-b590-59cce3f42285');\n",
       "var x = new MutationObserver(function (mutations, observer) {{\n",
       "        var display = window.getComputedStyle(gd).display;\n",
       "        if (!display || display === 'none') {{\n",
       "            console.log([gd, 'removed!']);\n",
       "            Plotly.purge(gd);\n",
       "            observer.disconnect();\n",
       "        }}\n",
       "}});\n",
       "\n",
       "// Listen for the removal of the full notebook cells\n",
       "var notebookContainer = gd.closest('#notebook-container');\n",
       "if (notebookContainer) {{\n",
       "    x.observe(notebookContainer, {childList: true});\n",
       "}}\n",
       "\n",
       "// Listen for the clearing of the current output cell\n",
       "var outputEl = gd.closest('.output');\n",
       "if (outputEl) {{\n",
       "    x.observe(outputEl, {childList: true});\n",
       "}}\n",
       "\n",
       "                        })                };                });            </script>        </div>"
      ]
     },
     "metadata": {},
     "output_type": "display_data"
    }
   ],
   "source": [
    "# Assuming df_gps_coverage is your DataFrame\n",
    "fig = px.violin(df_gps_coverage, \n",
    "                y=\"data_coverage_per\", \n",
    "                x=\"ema_smartphone_description\", \n",
    "                box=True,  # Shows a box plot inside the violin\n",
    "                title=\"GPS Coverage per Smartphone\")\n",
    "\n",
    "fig.show()"
   ]
  },
  {
   "cell_type": "code",
   "execution_count": 8,
   "metadata": {},
   "outputs": [
    {
     "data": {
      "text/html": [
       "<div>                            <div id=\"8bf67993-339a-4474-93e5-4d66fa4d2869\" class=\"plotly-graph-div\" style=\"height:525px; width:100%;\"></div>            <script type=\"text/javascript\">                require([\"plotly\"], function(Plotly) {                    window.PLOTLYENV=window.PLOTLYENV || {};                                    if (document.getElementById(\"8bf67993-339a-4474-93e5-4d66fa4d2869\")) {                    Plotly.newPlot(                        \"8bf67993-339a-4474-93e5-4d66fa4d2869\",                        [{\"alignmentgroup\":\"True\",\"box\":{\"visible\":true},\"hovertemplate\":\"scid_cv_description=%{x}<br>data_coverage_per=%{y}<extra></extra>\",\"legendgroup\":\"\",\"marker\":{\"color\":\"#636efa\"},\"name\":\"\",\"offsetgroup\":\"\",\"orientation\":\"v\",\"points\":\"all\",\"scalegroup\":\"True\",\"showlegend\":false,\"x\":[\"Social Anxiety Disorder\",\"Social Anxiety Disorder\",\"Generalized Anxiety Disorder\",\"Agoraphobia and/or Panic Disorder\",\"Social Anxiety Disorder\",\"Depressive Disorder\",\"Depressive Disorder\",\"Obsessive-Compulsive Disorder\",\"Obsessive-Compulsive Disorder\",\"Depressive Disorder\",\"Social Anxiety Disorder\",\"Social Anxiety Disorder\",\"Obsessive-Compulsive Disorder\",\"Depressive Disorder\",\"Social Anxiety Disorder\",\"Generalized Anxiety Disorder\",\"Obsessive-Compulsive Disorder\",\"Generalized Anxiety Disorder\",\"Depressive Disorder\",\"Obsessive-Compulsive Disorder\",\"Agoraphobia and/or Panic Disorder\",\"Obsessive-Compulsive Disorder\",\"Depressive Disorder\",\"Depressive Disorder\",null,\"Depressive Disorder\",\"Depressive Disorder\",\"Depressive Disorder\",\"Depressive Disorder\",\"Social Anxiety Disorder\",\"Depressive Disorder\",\"Depressive Disorder\",\"Obsessive-Compulsive Disorder\",\"Agoraphobia and/or Panic Disorder\",\"Agoraphobia and/or Panic Disorder\",\"Agoraphobia and/or Panic Disorder\",\"Social Anxiety Disorder\",\"Post-Traumatic Stress Disorder\",\"Social Anxiety Disorder\",\"Generalized Anxiety Disorder\",\"Depressive Disorder\",\"Depressive Disorder\",\"Depressive Disorder\",\"Depressive Disorder\",\"Generalized Anxiety Disorder\",\"Depressive Disorder\",\"Depressive Disorder\",\"Depressive Disorder\",\"Depressive Disorder\",\"Post-Traumatic Stress Disorder\",\"Depressive Disorder\",\"Obsessive-Compulsive Disorder\",\"Depressive Disorder\",\"Obsessive-Compulsive Disorder\",null,\"Depressive Disorder\",\"Obsessive-Compulsive Disorder\",\"Depressive Disorder\",\"Depressive Disorder\",\"Depressive Disorder\",\"Depressive Disorder\",\"Depressive Disorder\",\"Depressive Disorder\",\"Obsessive-Compulsive Disorder\",\"Obsessive-Compulsive Disorder\",\"Depressive Disorder\",null,\"Depressive Disorder\",\"Generalized Anxiety Disorder\",\"Obsessive-Compulsive Disorder\",\"Depressive Disorder\",\"Depressive Disorder\",\"Generalized Anxiety Disorder\",\"Generalized Anxiety Disorder\",\"Depressive Disorder\",\"Obsessive-Compulsive Disorder\",\"Obsessive-Compulsive Disorder\",\"Agoraphobia and/or Panic Disorder\",\"Obsessive-Compulsive Disorder\",\"Depressive Disorder\",\"Depressive Disorder\",\"Depressive Disorder\",\"Depressive Disorder\",\"Depressive Disorder\",\"Obsessive-Compulsive Disorder\",\"Social Anxiety Disorder\",null,\"Depressive Disorder\",\"Depressive Disorder\",\"Post-Traumatic Stress Disorder\",\"Depressive Disorder\",\"Social Anxiety Disorder\",\"Depressive Disorder\",\"Social Anxiety Disorder\",\"Depressive Disorder\",\"Obsessive-Compulsive Disorder\",null,\"Depressive Disorder\",\"Depressive Disorder\",\"Depressive Disorder\",\"Depressive Disorder\",\"Depressive Disorder\",\"Post-Traumatic Stress Disorder\",\"Depressive Disorder\",\"Depressive Disorder\",\"Depressive Disorder\",\"Depressive Disorder\",\"Depressive Disorder\",\"Depressive Disorder\",\"Social Anxiety Disorder\",\"Specific Phobia\",\"Depressive Disorder\",\"Post-Traumatic Stress Disorder\",\"Post-Traumatic Stress Disorder\",\"Specific Phobia\",\"Obsessive-Compulsive Disorder\",\"Social Anxiety Disorder\",\"Social Anxiety Disorder\",\"Depressive Disorder\",\"Depressive Disorder\",null,\"Social Anxiety Disorder\",null,null,\"Agoraphobia and/or Panic Disorder\",\"Depressive Disorder\",\"Post-Traumatic Stress Disorder\",\"Post-Traumatic Stress Disorder\",null,\"Social Anxiety Disorder\",\"Social Anxiety Disorder\",\"Obsessive-Compulsive Disorder\",\"Depressive Disorder\",\"Social Anxiety Disorder\",\"Obsessive-Compulsive Disorder\",null,\"Depressive Disorder\",\"Social Anxiety Disorder\",\"Depressive Disorder\",\"Generalized Anxiety Disorder\",\"Depressive Disorder\",\"Depressive Disorder\",null,\"Generalized Anxiety Disorder\",null,\"Obsessive-Compulsive Disorder\",\"Depressive Disorder\",\"Social Anxiety Disorder\",\"Depressive Disorder\",\"Depressive Disorder\",\"Depressive Disorder\",\"Agoraphobia and/or Panic Disorder\",\"Depressive Disorder\",\"Generalized Anxiety Disorder\",\"Depressive Disorder\",\"Depressive Disorder\",\"Depressive Disorder\",\"Agoraphobia and/or Panic Disorder\",\"Depressive Disorder\",\"Depressive Disorder\",\"Depressive Disorder\",\"Social Anxiety Disorder\",\"Social Anxiety Disorder\",\"Depressive Disorder\",\"Depressive Disorder\",\"Depressive Disorder\",\"Social Anxiety Disorder\",\"Social Anxiety Disorder\",\"Depressive Disorder\",\"Specific Phobia\",\"Generalized Anxiety Disorder\",null,\"Social Anxiety Disorder\",\"Depressive Disorder\",\"Depressive Disorder\",\"Post-Traumatic Stress Disorder\"],\"x0\":\" \",\"xaxis\":\"x\",\"y\":[87.5,28.104575163398692,12.021857923497267,30.107526881720432,35.22727272727273,7.428571428571429,36.36363636363637,36.206896551724135,12.903225806451612,19.565217391304348,87.79069767441861,0.6172839506172839,15.028901734104046,17.46031746031746,40.98360655737705,10.21505376344086,72.0,82.88770053475936,64.12213740458014,19.12568306010929,96.875,78.3068783068783,74.60317460317461,61.212121212121204,95.23809523809523,33.82352941176471,41.66666666666667,43.90243902439025,3.0864197530864197,79.67914438502673,99.46808510638297,33.5483870967742,29.464285714285715,11.904761904761903,48.888888888888886,77.61194029850746,68.18181818181817,28.169014084507044,17.88617886178862,92.0,0.7874015748031495,97.53086419753086,54.25531914893617,81.02189781021897,76.0,95.18716577540107,45.1219512195122,21.50537634408602,83.42245989304813,33.69565217391305,77.6595744680851,33.33333333333333,81.48148148148148,97.16312056737588,92.52873563218391,92.06349206349206,6.422018348623854,10.967741935483872,19.444444444444446,64.55026455026454,89.44099378881988,2.6785714285714284,30.681818181818183,61.29032258064516,49.18032786885246,44.44444444444444,90.9090909090909,55.223880597014926,90.86021505376344,30.057803468208093,6.569343065693431,2.1164021164021163,9.58904109589041,80.0,90.37433155080214,13.10344827586207,89.78494623655914,92.3076923076923,8.60215053763441,21.98581560283688,83.87096774193549,71.42857142857143,25.97402597402597,7.142857142857142,84.21052631578947,94.8051948051948,71.875,65.60846560846561,1.098901098901099,22.674418604651162,2.0,17.582417582417584,11.510791366906476,3.428571428571429,21.73913043478261,72.97297297297297,57.692307692307686,86.89655172413792,17.72151898734177,25.581395348837212,85.02673796791443,95.13888888888889,16.901408450704224,6.521739130434782,95.45454545454545,3.7593984962406015,12.903225806451612,53.54330708661418,71.12299465240642,58.333333333333336,91.66666666666666,54.395604395604394,26.666666666666668,87.83068783068782,29.72972972972973,50.0,62.589928057553955,33.68983957219251,6.578947368421052,20.855614973262032,85.71428571428571,38.095238095238095,64.70588235294117,40.625,96.29629629629629,98.75,95.0,41.340782122905026,7.936507936507936,46.36871508379888,28.08988764044944,80.26315789473685,28.205128205128204,33.9622641509434,56.00000000000001,96.42857142857143,72.4867724867725,39.884393063583815,54.23728813559322,32.544378698224854,3.428571428571429,18.181818181818183,80.95238095238095,58.730158730158735,84.84848484848484,93.01075268817203,88.26815642458101,18.823529411764707,68.08510638297872,89.01098901098901,83.13253012048193,85.0,86.1271676300578,7.471264367816093,57.25190839694656,84.57446808510637,92.53731343283582,13.445378151260504,26.41509433962264,92.42424242424242,49.2063492063492,73.91304347826086,28.07017543859649,80.95238095238095,43.103448275862064,80.42328042328042,93.10344827586206,87.09677419354838,49.30555555555556,30.88235294117647,28.07017543859649,77.35849056603774,94.97206703910615,30.89430894308943,81.48148148148148,88.37209302325581],\"y0\":\" \",\"yaxis\":\"y\",\"type\":\"violin\"}],                        {\"template\":{\"data\":{\"histogram2dcontour\":[{\"type\":\"histogram2dcontour\",\"colorbar\":{\"outlinewidth\":0,\"ticks\":\"\"},\"colorscale\":[[0.0,\"#0d0887\"],[0.1111111111111111,\"#46039f\"],[0.2222222222222222,\"#7201a8\"],[0.3333333333333333,\"#9c179e\"],[0.4444444444444444,\"#bd3786\"],[0.5555555555555556,\"#d8576b\"],[0.6666666666666666,\"#ed7953\"],[0.7777777777777778,\"#fb9f3a\"],[0.8888888888888888,\"#fdca26\"],[1.0,\"#f0f921\"]]}],\"choropleth\":[{\"type\":\"choropleth\",\"colorbar\":{\"outlinewidth\":0,\"ticks\":\"\"}}],\"histogram2d\":[{\"type\":\"histogram2d\",\"colorbar\":{\"outlinewidth\":0,\"ticks\":\"\"},\"colorscale\":[[0.0,\"#0d0887\"],[0.1111111111111111,\"#46039f\"],[0.2222222222222222,\"#7201a8\"],[0.3333333333333333,\"#9c179e\"],[0.4444444444444444,\"#bd3786\"],[0.5555555555555556,\"#d8576b\"],[0.6666666666666666,\"#ed7953\"],[0.7777777777777778,\"#fb9f3a\"],[0.8888888888888888,\"#fdca26\"],[1.0,\"#f0f921\"]]}],\"heatmap\":[{\"type\":\"heatmap\",\"colorbar\":{\"outlinewidth\":0,\"ticks\":\"\"},\"colorscale\":[[0.0,\"#0d0887\"],[0.1111111111111111,\"#46039f\"],[0.2222222222222222,\"#7201a8\"],[0.3333333333333333,\"#9c179e\"],[0.4444444444444444,\"#bd3786\"],[0.5555555555555556,\"#d8576b\"],[0.6666666666666666,\"#ed7953\"],[0.7777777777777778,\"#fb9f3a\"],[0.8888888888888888,\"#fdca26\"],[1.0,\"#f0f921\"]]}],\"heatmapgl\":[{\"type\":\"heatmapgl\",\"colorbar\":{\"outlinewidth\":0,\"ticks\":\"\"},\"colorscale\":[[0.0,\"#0d0887\"],[0.1111111111111111,\"#46039f\"],[0.2222222222222222,\"#7201a8\"],[0.3333333333333333,\"#9c179e\"],[0.4444444444444444,\"#bd3786\"],[0.5555555555555556,\"#d8576b\"],[0.6666666666666666,\"#ed7953\"],[0.7777777777777778,\"#fb9f3a\"],[0.8888888888888888,\"#fdca26\"],[1.0,\"#f0f921\"]]}],\"contourcarpet\":[{\"type\":\"contourcarpet\",\"colorbar\":{\"outlinewidth\":0,\"ticks\":\"\"}}],\"contour\":[{\"type\":\"contour\",\"colorbar\":{\"outlinewidth\":0,\"ticks\":\"\"},\"colorscale\":[[0.0,\"#0d0887\"],[0.1111111111111111,\"#46039f\"],[0.2222222222222222,\"#7201a8\"],[0.3333333333333333,\"#9c179e\"],[0.4444444444444444,\"#bd3786\"],[0.5555555555555556,\"#d8576b\"],[0.6666666666666666,\"#ed7953\"],[0.7777777777777778,\"#fb9f3a\"],[0.8888888888888888,\"#fdca26\"],[1.0,\"#f0f921\"]]}],\"surface\":[{\"type\":\"surface\",\"colorbar\":{\"outlinewidth\":0,\"ticks\":\"\"},\"colorscale\":[[0.0,\"#0d0887\"],[0.1111111111111111,\"#46039f\"],[0.2222222222222222,\"#7201a8\"],[0.3333333333333333,\"#9c179e\"],[0.4444444444444444,\"#bd3786\"],[0.5555555555555556,\"#d8576b\"],[0.6666666666666666,\"#ed7953\"],[0.7777777777777778,\"#fb9f3a\"],[0.8888888888888888,\"#fdca26\"],[1.0,\"#f0f921\"]]}],\"mesh3d\":[{\"type\":\"mesh3d\",\"colorbar\":{\"outlinewidth\":0,\"ticks\":\"\"}}],\"scatter\":[{\"fillpattern\":{\"fillmode\":\"overlay\",\"size\":10,\"solidity\":0.2},\"type\":\"scatter\"}],\"parcoords\":[{\"type\":\"parcoords\",\"line\":{\"colorbar\":{\"outlinewidth\":0,\"ticks\":\"\"}}}],\"scatterpolargl\":[{\"type\":\"scatterpolargl\",\"marker\":{\"colorbar\":{\"outlinewidth\":0,\"ticks\":\"\"}}}],\"bar\":[{\"error_x\":{\"color\":\"#2a3f5f\"},\"error_y\":{\"color\":\"#2a3f5f\"},\"marker\":{\"line\":{\"color\":\"#E5ECF6\",\"width\":0.5},\"pattern\":{\"fillmode\":\"overlay\",\"size\":10,\"solidity\":0.2}},\"type\":\"bar\"}],\"scattergeo\":[{\"type\":\"scattergeo\",\"marker\":{\"colorbar\":{\"outlinewidth\":0,\"ticks\":\"\"}}}],\"scatterpolar\":[{\"type\":\"scatterpolar\",\"marker\":{\"colorbar\":{\"outlinewidth\":0,\"ticks\":\"\"}}}],\"histogram\":[{\"marker\":{\"pattern\":{\"fillmode\":\"overlay\",\"size\":10,\"solidity\":0.2}},\"type\":\"histogram\"}],\"scattergl\":[{\"type\":\"scattergl\",\"marker\":{\"colorbar\":{\"outlinewidth\":0,\"ticks\":\"\"}}}],\"scatter3d\":[{\"type\":\"scatter3d\",\"line\":{\"colorbar\":{\"outlinewidth\":0,\"ticks\":\"\"}},\"marker\":{\"colorbar\":{\"outlinewidth\":0,\"ticks\":\"\"}}}],\"scattermapbox\":[{\"type\":\"scattermapbox\",\"marker\":{\"colorbar\":{\"outlinewidth\":0,\"ticks\":\"\"}}}],\"scatterternary\":[{\"type\":\"scatterternary\",\"marker\":{\"colorbar\":{\"outlinewidth\":0,\"ticks\":\"\"}}}],\"scattercarpet\":[{\"type\":\"scattercarpet\",\"marker\":{\"colorbar\":{\"outlinewidth\":0,\"ticks\":\"\"}}}],\"carpet\":[{\"aaxis\":{\"endlinecolor\":\"#2a3f5f\",\"gridcolor\":\"white\",\"linecolor\":\"white\",\"minorgridcolor\":\"white\",\"startlinecolor\":\"#2a3f5f\"},\"baxis\":{\"endlinecolor\":\"#2a3f5f\",\"gridcolor\":\"white\",\"linecolor\":\"white\",\"minorgridcolor\":\"white\",\"startlinecolor\":\"#2a3f5f\"},\"type\":\"carpet\"}],\"table\":[{\"cells\":{\"fill\":{\"color\":\"#EBF0F8\"},\"line\":{\"color\":\"white\"}},\"header\":{\"fill\":{\"color\":\"#C8D4E3\"},\"line\":{\"color\":\"white\"}},\"type\":\"table\"}],\"barpolar\":[{\"marker\":{\"line\":{\"color\":\"#E5ECF6\",\"width\":0.5},\"pattern\":{\"fillmode\":\"overlay\",\"size\":10,\"solidity\":0.2}},\"type\":\"barpolar\"}],\"pie\":[{\"automargin\":true,\"type\":\"pie\"}]},\"layout\":{\"autotypenumbers\":\"strict\",\"colorway\":[\"#636efa\",\"#EF553B\",\"#00cc96\",\"#ab63fa\",\"#FFA15A\",\"#19d3f3\",\"#FF6692\",\"#B6E880\",\"#FF97FF\",\"#FECB52\"],\"font\":{\"color\":\"#2a3f5f\"},\"hovermode\":\"closest\",\"hoverlabel\":{\"align\":\"left\"},\"paper_bgcolor\":\"white\",\"plot_bgcolor\":\"#E5ECF6\",\"polar\":{\"bgcolor\":\"#E5ECF6\",\"angularaxis\":{\"gridcolor\":\"white\",\"linecolor\":\"white\",\"ticks\":\"\"},\"radialaxis\":{\"gridcolor\":\"white\",\"linecolor\":\"white\",\"ticks\":\"\"}},\"ternary\":{\"bgcolor\":\"#E5ECF6\",\"aaxis\":{\"gridcolor\":\"white\",\"linecolor\":\"white\",\"ticks\":\"\"},\"baxis\":{\"gridcolor\":\"white\",\"linecolor\":\"white\",\"ticks\":\"\"},\"caxis\":{\"gridcolor\":\"white\",\"linecolor\":\"white\",\"ticks\":\"\"}},\"coloraxis\":{\"colorbar\":{\"outlinewidth\":0,\"ticks\":\"\"}},\"colorscale\":{\"sequential\":[[0.0,\"#0d0887\"],[0.1111111111111111,\"#46039f\"],[0.2222222222222222,\"#7201a8\"],[0.3333333333333333,\"#9c179e\"],[0.4444444444444444,\"#bd3786\"],[0.5555555555555556,\"#d8576b\"],[0.6666666666666666,\"#ed7953\"],[0.7777777777777778,\"#fb9f3a\"],[0.8888888888888888,\"#fdca26\"],[1.0,\"#f0f921\"]],\"sequentialminus\":[[0.0,\"#0d0887\"],[0.1111111111111111,\"#46039f\"],[0.2222222222222222,\"#7201a8\"],[0.3333333333333333,\"#9c179e\"],[0.4444444444444444,\"#bd3786\"],[0.5555555555555556,\"#d8576b\"],[0.6666666666666666,\"#ed7953\"],[0.7777777777777778,\"#fb9f3a\"],[0.8888888888888888,\"#fdca26\"],[1.0,\"#f0f921\"]],\"diverging\":[[0,\"#8e0152\"],[0.1,\"#c51b7d\"],[0.2,\"#de77ae\"],[0.3,\"#f1b6da\"],[0.4,\"#fde0ef\"],[0.5,\"#f7f7f7\"],[0.6,\"#e6f5d0\"],[0.7,\"#b8e186\"],[0.8,\"#7fbc41\"],[0.9,\"#4d9221\"],[1,\"#276419\"]]},\"xaxis\":{\"gridcolor\":\"white\",\"linecolor\":\"white\",\"ticks\":\"\",\"title\":{\"standoff\":15},\"zerolinecolor\":\"white\",\"automargin\":true,\"zerolinewidth\":2},\"yaxis\":{\"gridcolor\":\"white\",\"linecolor\":\"white\",\"ticks\":\"\",\"title\":{\"standoff\":15},\"zerolinecolor\":\"white\",\"automargin\":true,\"zerolinewidth\":2},\"scene\":{\"xaxis\":{\"backgroundcolor\":\"#E5ECF6\",\"gridcolor\":\"white\",\"linecolor\":\"white\",\"showbackground\":true,\"ticks\":\"\",\"zerolinecolor\":\"white\",\"gridwidth\":2},\"yaxis\":{\"backgroundcolor\":\"#E5ECF6\",\"gridcolor\":\"white\",\"linecolor\":\"white\",\"showbackground\":true,\"ticks\":\"\",\"zerolinecolor\":\"white\",\"gridwidth\":2},\"zaxis\":{\"backgroundcolor\":\"#E5ECF6\",\"gridcolor\":\"white\",\"linecolor\":\"white\",\"showbackground\":true,\"ticks\":\"\",\"zerolinecolor\":\"white\",\"gridwidth\":2}},\"shapedefaults\":{\"line\":{\"color\":\"#2a3f5f\"}},\"annotationdefaults\":{\"arrowcolor\":\"#2a3f5f\",\"arrowhead\":0,\"arrowwidth\":1},\"geo\":{\"bgcolor\":\"white\",\"landcolor\":\"#E5ECF6\",\"subunitcolor\":\"white\",\"showland\":true,\"showlakes\":true,\"lakecolor\":\"white\"},\"title\":{\"x\":0.05},\"mapbox\":{\"style\":\"light\"},\"margin\":{\"b\":0,\"l\":0,\"r\":0,\"t\":30}}},\"xaxis\":{\"anchor\":\"y\",\"domain\":[0.0,1.0],\"title\":{\"text\":\"scid_cv_description\"}},\"yaxis\":{\"anchor\":\"x\",\"domain\":[0.0,1.0],\"title\":{\"text\":\"data_coverage_per\"}},\"legend\":{\"tracegroupgap\":0},\"title\":{\"text\":\"GPS Coverage per Scid Diagnosis\"},\"violinmode\":\"group\"},                        {\"responsive\": true}                    ).then(function(){\n",
       "                            \n",
       "var gd = document.getElementById('8bf67993-339a-4474-93e5-4d66fa4d2869');\n",
       "var x = new MutationObserver(function (mutations, observer) {{\n",
       "        var display = window.getComputedStyle(gd).display;\n",
       "        if (!display || display === 'none') {{\n",
       "            console.log([gd, 'removed!']);\n",
       "            Plotly.purge(gd);\n",
       "            observer.disconnect();\n",
       "        }}\n",
       "}});\n",
       "\n",
       "// Listen for the removal of the full notebook cells\n",
       "var notebookContainer = gd.closest('#notebook-container');\n",
       "if (notebookContainer) {{\n",
       "    x.observe(notebookContainer, {childList: true});\n",
       "}}\n",
       "\n",
       "// Listen for the clearing of the current output cell\n",
       "var outputEl = gd.closest('.output');\n",
       "if (outputEl) {{\n",
       "    x.observe(outputEl, {childList: true});\n",
       "}}\n",
       "\n",
       "                        })                };                });            </script>        </div>"
      ]
     },
     "metadata": {},
     "output_type": "display_data"
    }
   ],
   "source": [
    "# Assuming df_gps_coverage is your DataFrame\n",
    "fig = px.violin(df_gps_coverage, \n",
    "                y=\"data_coverage_per\", \n",
    "                x=\"scid_cv_description\", \n",
    "                points='all',\n",
    "                box=True,  # Shows a box plot inside the violin\n",
    "                title=\"GPS Coverage per Scid Diagnosis\")\n",
    "\n",
    "fig.show()"
   ]
  },
  {
   "cell_type": "code",
   "execution_count": 9,
   "metadata": {},
   "outputs": [
    {
     "data": {
      "text/html": [
       "<div>                            <div id=\"aa3107f0-35cc-444d-8c67-2f1c2b7618cb\" class=\"plotly-graph-div\" style=\"height:525px; width:100%;\"></div>            <script type=\"text/javascript\">                require([\"plotly\"], function(Plotly) {                    window.PLOTLYENV=window.PLOTLYENV || {};                                    if (document.getElementById(\"aa3107f0-35cc-444d-8c67-2f1c2b7618cb\")) {                    Plotly.newPlot(                        \"aa3107f0-35cc-444d-8c67-2f1c2b7618cb\",                        [{\"hovertemplate\":\"BSI_GSI=%{x}<br>Data Coverage (%)=%{y}<extra></extra>\",\"legendgroup\":\"\",\"marker\":{\"color\":\"#636efa\",\"symbol\":\"circle\"},\"mode\":\"markers\",\"name\":\"\",\"orientation\":\"v\",\"showlegend\":false,\"x\":[null,1.1132075471698,0.5660377358490566,1.169811320754717,1.3962264150943395,1.4339622641509433,1.830188679245283,2.188679245283019,0.9245283018867924,1.0754716981132,1.2641509433962264,2.849056603773585,0.8867924528301887,0.8113207547169812,1.150943396226415,0.7924528301886793,null,1.3773584905660377,1.339622641509434,1.018867924528302,null,1.1886792452830188,1.5660377358490567,1.4339622641509433,null,1.6037735849056605,null,1.339622641509434,1.1320754716981132,1.2264150943396226,0.9622641509433962,1.2641509433962,0.9811320754716981,1.679245283018868,1.830188679245283,2.811320754716981,1.9811320754717,null,1.1320754716981132,null,0.660377358490566,0.7924528301886793,0.8301886792452831,1.2452830188679245,null,1.320754716981132,1.69811320754717,0.7924528301886793,0.981132075471698,1.4150943396226414,1.7358490566037736,1.6037735849056605,1.622641509434,1.3207547169811,1.018867924528302,1.320754716981132,0.7358490566037735,1.1320754716981,1.0943396226415094,1.5849056603774,0.8301886792452831,2.358490566037736,1.849056603773585,1.0566037735849,1.2264150943396226,1.0754716981132075,null,0.69811320754717,0.5094339622641509,0.5283018867924528,1.2452830188679245,1.1132075471698113,0.7547169811320755,0.5849056603773585,0.981132075471698,0.8490566037735849,0.9056603773584906,null,0.9622641509433962,1.5849056603773586,1.0754716981132075,0.9433962264150944,1.018867924528302,2.8867924528301887,0.79245283018868,1.4150943396226414,2.150943396226415,0.7358490566037735,1.0566037735849056,1.3962264150943395,2.150943396226415,0.7547169811320755,1.7358490566037736,1.5660377358490567,1.0188679245283,1.1132075471698113,null,1.5660377358491,1.0566037735849056,0.6981132075471698,1.6981132075472,1.4528301886792,1.4339622641509433,0.9622641509433962,null,2.5283018867924527,1.0943396226415094,3.509433962264151,1.5660377358491,1.0377358490566,null,1.3584905660377358,0.6981132075471698,1.6415094339622642,null,0.4716981132075472,3.679245283018868,1.8867924528301887,1.8113207547169807,0.4339622641509434,null,null,0.9622641509433962,null,1.490566037735849,0.9622641509434,1.471698113207547,1.490566037735849,0.7735849056603774,1.811320754717,0.8490566037735849,1.811320754717,1.0754716981132075,1.4339622641509433,0.7358490566037735,null,0.6415094339622641,1.1320754716981132,0.4716981132075472,0.7735849056603774,1.0,null,null,1.4339622641509433,1.509433962264151,0.5471698113207547,2.188679245283019,null,1.6415094339622642,1.7169811320754718,2.4150943396226414,0.7358490566037735,3.0754716981132075,1.3584905660377358,0.8113207547169812,0.92452830188679,1.4528301886792452,0.7547169811320755,1.2264150943396226,1.1320754716981132,1.8867924528301887,1.169811320754717,2.3773584905660377,null,1.3962264150943395,1.8867924528301887,null,1.471698113207547,1.3396226415094,0.7358490566037735,0.9056603773584906,0.7169811320754716,1.7924528301887,1.0,1.2641509433962264,0.5660377358490566],\"xaxis\":\"x\",\"y\":[87.5,28.104575163398692,12.021857923497267,30.107526881720432,35.22727272727273,7.428571428571429,36.36363636363637,36.206896551724135,12.903225806451612,19.565217391304348,87.79069767441861,0.6172839506172839,15.028901734104046,17.46031746031746,40.98360655737705,10.21505376344086,72.0,82.88770053475936,64.12213740458014,19.12568306010929,96.875,78.3068783068783,74.60317460317461,61.212121212121204,95.23809523809523,33.82352941176471,41.66666666666667,43.90243902439025,3.0864197530864197,79.67914438502673,99.46808510638297,33.5483870967742,29.464285714285715,11.904761904761903,48.888888888888886,77.61194029850746,68.18181818181817,28.169014084507044,17.88617886178862,92.0,0.7874015748031495,97.53086419753086,54.25531914893617,81.02189781021897,76.0,95.18716577540107,45.1219512195122,21.50537634408602,83.42245989304813,33.69565217391305,77.6595744680851,33.33333333333333,81.48148148148148,97.16312056737588,92.52873563218391,92.06349206349206,6.422018348623854,10.967741935483872,19.444444444444446,64.55026455026454,89.44099378881988,2.6785714285714284,30.681818181818183,61.29032258064516,49.18032786885246,44.44444444444444,90.9090909090909,55.223880597014926,90.86021505376344,30.057803468208093,6.569343065693431,2.1164021164021163,9.58904109589041,80.0,90.37433155080214,13.10344827586207,89.78494623655914,92.3076923076923,8.60215053763441,21.98581560283688,83.87096774193549,71.42857142857143,25.97402597402597,7.142857142857142,84.21052631578947,94.8051948051948,71.875,65.60846560846561,1.098901098901099,22.674418604651162,2.0,17.582417582417584,11.510791366906476,3.428571428571429,21.73913043478261,72.97297297297297,57.692307692307686,86.89655172413792,17.72151898734177,25.581395348837212,85.02673796791443,95.13888888888889,16.901408450704224,6.521739130434782,95.45454545454545,3.7593984962406015,12.903225806451612,53.54330708661418,71.12299465240642,58.333333333333336,91.66666666666666,54.395604395604394,26.666666666666668,87.83068783068782,29.72972972972973,50.0,62.589928057553955,33.68983957219251,6.578947368421052,20.855614973262032,85.71428571428571,38.095238095238095,64.70588235294117,40.625,96.29629629629629,98.75,95.0,41.340782122905026,7.936507936507936,46.36871508379888,28.08988764044944,80.26315789473685,28.205128205128204,33.9622641509434,56.00000000000001,96.42857142857143,72.4867724867725,39.884393063583815,54.23728813559322,32.544378698224854,3.428571428571429,18.181818181818183,80.95238095238095,58.730158730158735,84.84848484848484,93.01075268817203,88.26815642458101,18.823529411764707,68.08510638297872,89.01098901098901,83.13253012048193,85.0,86.1271676300578,7.471264367816093,57.25190839694656,84.57446808510637,92.53731343283582,13.445378151260504,26.41509433962264,92.42424242424242,49.2063492063492,73.91304347826086,28.07017543859649,80.95238095238095,43.103448275862064,80.42328042328042,93.10344827586206,87.09677419354838,49.30555555555556,30.88235294117647,28.07017543859649,77.35849056603774,94.97206703910615,30.89430894308943,81.48148148148148,88.37209302325581],\"yaxis\":\"y\",\"type\":\"scatter\"},{\"hovertemplate\":\"<b>OLS trendline</b><br>data_coverage_per = 2.57438 * bsi_gsi + 45.9725<br>R<sup>2</sup>=0.002233<br><br>BSI_GSI=%{x}<br>Data Coverage (%)=%{y} <b>(trend)</b><extra></extra>\",\"legendgroup\":\"\",\"marker\":{\"color\":\"#636efa\",\"symbol\":\"circle\"},\"mode\":\"lines\",\"name\":\"\",\"showlegend\":false,\"x\":[0.4339622641509434,0.4716981132075472,0.4716981132075472,0.5094339622641509,0.5283018867924528,0.5471698113207547,0.5660377358490566,0.5660377358490566,0.5849056603773585,0.6415094339622641,0.660377358490566,0.6981132075471698,0.6981132075471698,0.69811320754717,0.7169811320754716,0.7358490566037735,0.7358490566037735,0.7358490566037735,0.7358490566037735,0.7358490566037735,0.7547169811320755,0.7547169811320755,0.7547169811320755,0.7735849056603774,0.7735849056603774,0.7924528301886793,0.7924528301886793,0.7924528301886793,0.79245283018868,0.8113207547169812,0.8113207547169812,0.8301886792452831,0.8301886792452831,0.8490566037735849,0.8490566037735849,0.8867924528301887,0.9056603773584906,0.9056603773584906,0.92452830188679,0.9245283018867924,0.9433962264150944,0.9622641509433962,0.9622641509433962,0.9622641509433962,0.9622641509433962,0.9622641509434,0.981132075471698,0.981132075471698,0.9811320754716981,1.0,1.0,1.0188679245283,1.018867924528302,1.018867924528302,1.018867924528302,1.0377358490566,1.0566037735849,1.0566037735849056,1.0566037735849056,1.0754716981132,1.0754716981132075,1.0754716981132075,1.0754716981132075,1.0943396226415094,1.0943396226415094,1.1132075471698,1.1132075471698113,1.1132075471698113,1.1320754716981,1.1320754716981132,1.1320754716981132,1.1320754716981132,1.1320754716981132,1.150943396226415,1.169811320754717,1.169811320754717,1.1886792452830188,1.2264150943396226,1.2264150943396226,1.2264150943396226,1.2452830188679245,1.2452830188679245,1.2641509433962,1.2641509433962264,1.2641509433962264,1.3207547169811,1.320754716981132,1.320754716981132,1.3396226415094,1.339622641509434,1.339622641509434,1.3584905660377358,1.3584905660377358,1.3773584905660377,1.3962264150943395,1.3962264150943395,1.3962264150943395,1.4150943396226414,1.4150943396226414,1.4339622641509433,1.4339622641509433,1.4339622641509433,1.4339622641509433,1.4339622641509433,1.4528301886792,1.4528301886792452,1.471698113207547,1.471698113207547,1.490566037735849,1.490566037735849,1.509433962264151,1.5660377358490567,1.5660377358490567,1.5660377358491,1.5660377358491,1.5849056603773586,1.5849056603774,1.6037735849056605,1.6037735849056605,1.622641509434,1.6415094339622642,1.6415094339622642,1.679245283018868,1.69811320754717,1.6981132075472,1.7169811320754718,1.7358490566037736,1.7358490566037736,1.7924528301887,1.8113207547169807,1.811320754717,1.811320754717,1.830188679245283,1.830188679245283,1.849056603773585,1.8867924528301887,1.8867924528301887,1.8867924528301887,1.9811320754717,2.150943396226415,2.150943396226415,2.188679245283019,2.188679245283019,2.358490566037736,2.3773584905660377,2.4150943396226414,2.5283018867924527,2.811320754716981,2.849056603773585,2.8867924528301887,3.0754716981132075,3.509433962264151,3.679245283018868],\"xaxis\":\"x\",\"y\":[47.089702654328086,47.186849209282606,47.186849209282606,47.283995764237126,47.332569041714386,47.381142319191646,47.429715596668906,47.429715596668906,47.478288874146166,47.624008706577946,47.672581984055206,47.76972853900973,47.76972853900973,47.76972853900973,47.81830181648699,47.86687509396425,47.86687509396425,47.86687509396425,47.86687509396425,47.86687509396425,47.915448371441514,47.915448371441514,47.915448371441514,47.964021648918774,47.964021648918774,48.012594926396034,48.012594926396034,48.012594926396034,48.012594926396034,48.061168203873294,48.061168203873294,48.109741481350554,48.109741481350554,48.158314758827814,48.158314758827814,48.255461313782334,48.304034591259594,48.304034591259594,48.35260786873685,48.352607868736854,48.401181146214114,48.449754423691374,48.449754423691374,48.449754423691374,48.449754423691374,48.44975442369138,48.498327701168634,48.498327701168634,48.498327701168634,48.546900978645894,48.546900978645894,48.59547425612315,48.595474256123154,48.595474256123154,48.595474256123154,48.6440475336004,48.69262081107766,48.692620811077674,48.692620811077674,48.74119408855491,48.741194088554934,48.741194088554934,48.741194088554934,48.789767366032194,48.789767366032194,48.838340643509426,48.838340643509454,48.838340643509454,48.88691392098668,48.886913920986714,48.886913920986714,48.886913920986714,48.886913920986714,48.935487198463974,48.984060475941234,48.984060475941234,49.032633753418494,49.129780308373014,49.129780308373014,49.129780308373014,49.178353585850274,49.178353585850274,49.22692686332746,49.226926863327535,49.226926863327535,49.37264669575923,49.372646695759315,49.372646695759315,49.42121997323649,49.421219973236575,49.421219973236575,49.469793250713835,49.469793250713835,49.518366528191095,49.566939805668355,49.566939805668355,49.566939805668355,49.615513083145615,49.615513083145615,49.664086360622875,49.664086360622875,49.664086360622875,49.664086360622875,49.664086360622875,49.71265963810002,49.712659638100135,49.761232915577395,49.761232915577395,49.809806193054655,49.809806193054655,49.858379470531915,50.004099302963695,50.004099302963695,50.00409930296381,50.00409930296381,50.052672580440955,50.05267258044106,50.101245857918215,50.101245857918215,50.149819135395575,50.198392412872735,50.198392412872735,50.295538967827255,50.344112245304515,50.34411224530459,50.392685522781775,50.441258800259035,50.441258800259035,50.58697863269087,50.635551910168076,50.635551910168125,50.635551910168125,50.684125187645336,50.684125187645336,50.732698465122596,50.829845020077116,50.829845020077116,50.829845020077116,51.07271140746342,51.50987090475876,51.50987090475876,51.60701745971328,51.60701745971328,52.044176957008624,52.092750234485884,52.189896789440404,52.481336454303964,53.209935616462865,53.307082171417385,53.404228726371905,53.889961501144505,55.00714688312149,55.44430638041683],\"yaxis\":\"y\",\"type\":\"scatter\"}],                        {\"template\":{\"data\":{\"histogram2dcontour\":[{\"type\":\"histogram2dcontour\",\"colorbar\":{\"outlinewidth\":0,\"ticks\":\"\"},\"colorscale\":[[0.0,\"#0d0887\"],[0.1111111111111111,\"#46039f\"],[0.2222222222222222,\"#7201a8\"],[0.3333333333333333,\"#9c179e\"],[0.4444444444444444,\"#bd3786\"],[0.5555555555555556,\"#d8576b\"],[0.6666666666666666,\"#ed7953\"],[0.7777777777777778,\"#fb9f3a\"],[0.8888888888888888,\"#fdca26\"],[1.0,\"#f0f921\"]]}],\"choropleth\":[{\"type\":\"choropleth\",\"colorbar\":{\"outlinewidth\":0,\"ticks\":\"\"}}],\"histogram2d\":[{\"type\":\"histogram2d\",\"colorbar\":{\"outlinewidth\":0,\"ticks\":\"\"},\"colorscale\":[[0.0,\"#0d0887\"],[0.1111111111111111,\"#46039f\"],[0.2222222222222222,\"#7201a8\"],[0.3333333333333333,\"#9c179e\"],[0.4444444444444444,\"#bd3786\"],[0.5555555555555556,\"#d8576b\"],[0.6666666666666666,\"#ed7953\"],[0.7777777777777778,\"#fb9f3a\"],[0.8888888888888888,\"#fdca26\"],[1.0,\"#f0f921\"]]}],\"heatmap\":[{\"type\":\"heatmap\",\"colorbar\":{\"outlinewidth\":0,\"ticks\":\"\"},\"colorscale\":[[0.0,\"#0d0887\"],[0.1111111111111111,\"#46039f\"],[0.2222222222222222,\"#7201a8\"],[0.3333333333333333,\"#9c179e\"],[0.4444444444444444,\"#bd3786\"],[0.5555555555555556,\"#d8576b\"],[0.6666666666666666,\"#ed7953\"],[0.7777777777777778,\"#fb9f3a\"],[0.8888888888888888,\"#fdca26\"],[1.0,\"#f0f921\"]]}],\"heatmapgl\":[{\"type\":\"heatmapgl\",\"colorbar\":{\"outlinewidth\":0,\"ticks\":\"\"},\"colorscale\":[[0.0,\"#0d0887\"],[0.1111111111111111,\"#46039f\"],[0.2222222222222222,\"#7201a8\"],[0.3333333333333333,\"#9c179e\"],[0.4444444444444444,\"#bd3786\"],[0.5555555555555556,\"#d8576b\"],[0.6666666666666666,\"#ed7953\"],[0.7777777777777778,\"#fb9f3a\"],[0.8888888888888888,\"#fdca26\"],[1.0,\"#f0f921\"]]}],\"contourcarpet\":[{\"type\":\"contourcarpet\",\"colorbar\":{\"outlinewidth\":0,\"ticks\":\"\"}}],\"contour\":[{\"type\":\"contour\",\"colorbar\":{\"outlinewidth\":0,\"ticks\":\"\"},\"colorscale\":[[0.0,\"#0d0887\"],[0.1111111111111111,\"#46039f\"],[0.2222222222222222,\"#7201a8\"],[0.3333333333333333,\"#9c179e\"],[0.4444444444444444,\"#bd3786\"],[0.5555555555555556,\"#d8576b\"],[0.6666666666666666,\"#ed7953\"],[0.7777777777777778,\"#fb9f3a\"],[0.8888888888888888,\"#fdca26\"],[1.0,\"#f0f921\"]]}],\"surface\":[{\"type\":\"surface\",\"colorbar\":{\"outlinewidth\":0,\"ticks\":\"\"},\"colorscale\":[[0.0,\"#0d0887\"],[0.1111111111111111,\"#46039f\"],[0.2222222222222222,\"#7201a8\"],[0.3333333333333333,\"#9c179e\"],[0.4444444444444444,\"#bd3786\"],[0.5555555555555556,\"#d8576b\"],[0.6666666666666666,\"#ed7953\"],[0.7777777777777778,\"#fb9f3a\"],[0.8888888888888888,\"#fdca26\"],[1.0,\"#f0f921\"]]}],\"mesh3d\":[{\"type\":\"mesh3d\",\"colorbar\":{\"outlinewidth\":0,\"ticks\":\"\"}}],\"scatter\":[{\"fillpattern\":{\"fillmode\":\"overlay\",\"size\":10,\"solidity\":0.2},\"type\":\"scatter\"}],\"parcoords\":[{\"type\":\"parcoords\",\"line\":{\"colorbar\":{\"outlinewidth\":0,\"ticks\":\"\"}}}],\"scatterpolargl\":[{\"type\":\"scatterpolargl\",\"marker\":{\"colorbar\":{\"outlinewidth\":0,\"ticks\":\"\"}}}],\"bar\":[{\"error_x\":{\"color\":\"#2a3f5f\"},\"error_y\":{\"color\":\"#2a3f5f\"},\"marker\":{\"line\":{\"color\":\"#E5ECF6\",\"width\":0.5},\"pattern\":{\"fillmode\":\"overlay\",\"size\":10,\"solidity\":0.2}},\"type\":\"bar\"}],\"scattergeo\":[{\"type\":\"scattergeo\",\"marker\":{\"colorbar\":{\"outlinewidth\":0,\"ticks\":\"\"}}}],\"scatterpolar\":[{\"type\":\"scatterpolar\",\"marker\":{\"colorbar\":{\"outlinewidth\":0,\"ticks\":\"\"}}}],\"histogram\":[{\"marker\":{\"pattern\":{\"fillmode\":\"overlay\",\"size\":10,\"solidity\":0.2}},\"type\":\"histogram\"}],\"scattergl\":[{\"type\":\"scattergl\",\"marker\":{\"colorbar\":{\"outlinewidth\":0,\"ticks\":\"\"}}}],\"scatter3d\":[{\"type\":\"scatter3d\",\"line\":{\"colorbar\":{\"outlinewidth\":0,\"ticks\":\"\"}},\"marker\":{\"colorbar\":{\"outlinewidth\":0,\"ticks\":\"\"}}}],\"scattermapbox\":[{\"type\":\"scattermapbox\",\"marker\":{\"colorbar\":{\"outlinewidth\":0,\"ticks\":\"\"}}}],\"scatterternary\":[{\"type\":\"scatterternary\",\"marker\":{\"colorbar\":{\"outlinewidth\":0,\"ticks\":\"\"}}}],\"scattercarpet\":[{\"type\":\"scattercarpet\",\"marker\":{\"colorbar\":{\"outlinewidth\":0,\"ticks\":\"\"}}}],\"carpet\":[{\"aaxis\":{\"endlinecolor\":\"#2a3f5f\",\"gridcolor\":\"white\",\"linecolor\":\"white\",\"minorgridcolor\":\"white\",\"startlinecolor\":\"#2a3f5f\"},\"baxis\":{\"endlinecolor\":\"#2a3f5f\",\"gridcolor\":\"white\",\"linecolor\":\"white\",\"minorgridcolor\":\"white\",\"startlinecolor\":\"#2a3f5f\"},\"type\":\"carpet\"}],\"table\":[{\"cells\":{\"fill\":{\"color\":\"#EBF0F8\"},\"line\":{\"color\":\"white\"}},\"header\":{\"fill\":{\"color\":\"#C8D4E3\"},\"line\":{\"color\":\"white\"}},\"type\":\"table\"}],\"barpolar\":[{\"marker\":{\"line\":{\"color\":\"#E5ECF6\",\"width\":0.5},\"pattern\":{\"fillmode\":\"overlay\",\"size\":10,\"solidity\":0.2}},\"type\":\"barpolar\"}],\"pie\":[{\"automargin\":true,\"type\":\"pie\"}]},\"layout\":{\"autotypenumbers\":\"strict\",\"colorway\":[\"#636efa\",\"#EF553B\",\"#00cc96\",\"#ab63fa\",\"#FFA15A\",\"#19d3f3\",\"#FF6692\",\"#B6E880\",\"#FF97FF\",\"#FECB52\"],\"font\":{\"color\":\"#2a3f5f\"},\"hovermode\":\"closest\",\"hoverlabel\":{\"align\":\"left\"},\"paper_bgcolor\":\"white\",\"plot_bgcolor\":\"#E5ECF6\",\"polar\":{\"bgcolor\":\"#E5ECF6\",\"angularaxis\":{\"gridcolor\":\"white\",\"linecolor\":\"white\",\"ticks\":\"\"},\"radialaxis\":{\"gridcolor\":\"white\",\"linecolor\":\"white\",\"ticks\":\"\"}},\"ternary\":{\"bgcolor\":\"#E5ECF6\",\"aaxis\":{\"gridcolor\":\"white\",\"linecolor\":\"white\",\"ticks\":\"\"},\"baxis\":{\"gridcolor\":\"white\",\"linecolor\":\"white\",\"ticks\":\"\"},\"caxis\":{\"gridcolor\":\"white\",\"linecolor\":\"white\",\"ticks\":\"\"}},\"coloraxis\":{\"colorbar\":{\"outlinewidth\":0,\"ticks\":\"\"}},\"colorscale\":{\"sequential\":[[0.0,\"#0d0887\"],[0.1111111111111111,\"#46039f\"],[0.2222222222222222,\"#7201a8\"],[0.3333333333333333,\"#9c179e\"],[0.4444444444444444,\"#bd3786\"],[0.5555555555555556,\"#d8576b\"],[0.6666666666666666,\"#ed7953\"],[0.7777777777777778,\"#fb9f3a\"],[0.8888888888888888,\"#fdca26\"],[1.0,\"#f0f921\"]],\"sequentialminus\":[[0.0,\"#0d0887\"],[0.1111111111111111,\"#46039f\"],[0.2222222222222222,\"#7201a8\"],[0.3333333333333333,\"#9c179e\"],[0.4444444444444444,\"#bd3786\"],[0.5555555555555556,\"#d8576b\"],[0.6666666666666666,\"#ed7953\"],[0.7777777777777778,\"#fb9f3a\"],[0.8888888888888888,\"#fdca26\"],[1.0,\"#f0f921\"]],\"diverging\":[[0,\"#8e0152\"],[0.1,\"#c51b7d\"],[0.2,\"#de77ae\"],[0.3,\"#f1b6da\"],[0.4,\"#fde0ef\"],[0.5,\"#f7f7f7\"],[0.6,\"#e6f5d0\"],[0.7,\"#b8e186\"],[0.8,\"#7fbc41\"],[0.9,\"#4d9221\"],[1,\"#276419\"]]},\"xaxis\":{\"gridcolor\":\"white\",\"linecolor\":\"white\",\"ticks\":\"\",\"title\":{\"standoff\":15},\"zerolinecolor\":\"white\",\"automargin\":true,\"zerolinewidth\":2},\"yaxis\":{\"gridcolor\":\"white\",\"linecolor\":\"white\",\"ticks\":\"\",\"title\":{\"standoff\":15},\"zerolinecolor\":\"white\",\"automargin\":true,\"zerolinewidth\":2},\"scene\":{\"xaxis\":{\"backgroundcolor\":\"#E5ECF6\",\"gridcolor\":\"white\",\"linecolor\":\"white\",\"showbackground\":true,\"ticks\":\"\",\"zerolinecolor\":\"white\",\"gridwidth\":2},\"yaxis\":{\"backgroundcolor\":\"#E5ECF6\",\"gridcolor\":\"white\",\"linecolor\":\"white\",\"showbackground\":true,\"ticks\":\"\",\"zerolinecolor\":\"white\",\"gridwidth\":2},\"zaxis\":{\"backgroundcolor\":\"#E5ECF6\",\"gridcolor\":\"white\",\"linecolor\":\"white\",\"showbackground\":true,\"ticks\":\"\",\"zerolinecolor\":\"white\",\"gridwidth\":2}},\"shapedefaults\":{\"line\":{\"color\":\"#2a3f5f\"}},\"annotationdefaults\":{\"arrowcolor\":\"#2a3f5f\",\"arrowhead\":0,\"arrowwidth\":1},\"geo\":{\"bgcolor\":\"white\",\"landcolor\":\"#E5ECF6\",\"subunitcolor\":\"white\",\"showland\":true,\"showlakes\":true,\"lakecolor\":\"white\"},\"title\":{\"x\":0.05},\"mapbox\":{\"style\":\"light\"},\"margin\":{\"b\":0,\"l\":0,\"r\":0,\"t\":30}}},\"xaxis\":{\"anchor\":\"y\",\"domain\":[0.0,1.0],\"title\":{\"text\":\"BSI_GSI\"}},\"yaxis\":{\"anchor\":\"x\",\"domain\":[0.0,1.0],\"title\":{\"text\":\"Data Coverage (%)\"}},\"legend\":{\"tracegroupgap\":0},\"title\":{\"text\":\"Correlation between data coverage and Global Severity Index\"}},                        {\"responsive\": true}                    ).then(function(){\n",
       "                            \n",
       "var gd = document.getElementById('aa3107f0-35cc-444d-8c67-2f1c2b7618cb');\n",
       "var x = new MutationObserver(function (mutations, observer) {{\n",
       "        var display = window.getComputedStyle(gd).display;\n",
       "        if (!display || display === 'none') {{\n",
       "            console.log([gd, 'removed!']);\n",
       "            Plotly.purge(gd);\n",
       "            observer.disconnect();\n",
       "        }}\n",
       "}});\n",
       "\n",
       "// Listen for the removal of the full notebook cells\n",
       "var notebookContainer = gd.closest('#notebook-container');\n",
       "if (notebookContainer) {{\n",
       "    x.observe(notebookContainer, {childList: true});\n",
       "}}\n",
       "\n",
       "// Listen for the clearing of the current output cell\n",
       "var outputEl = gd.closest('.output');\n",
       "if (outputEl) {{\n",
       "    x.observe(outputEl, {childList: true});\n",
       "}}\n",
       "\n",
       "                        })                };                });            </script>        </div>"
      ]
     },
     "metadata": {},
     "output_type": "display_data"
    }
   ],
   "source": [
    "fig = px.scatter(df_gps_coverage, \n",
    "                 x='bsi_gsi', \n",
    "                 y='data_coverage_per',\n",
    "                 title='Correlation between data coverage and Global Severity Index',\n",
    "                 labels={'bsi_gsi': 'BSI_GSI', 'data_coverage_per': 'Data Coverage (%)'},\n",
    "                 trendline=\"ols\")  # Adds a trend line using ordinary least squares regression\n",
    "\n",
    "fig.show()"
   ]
  },
  {
   "cell_type": "markdown",
   "metadata": {},
   "source": [
    "### Passive data"
   ]
  },
  {
   "cell_type": "code",
   "execution_count": 10,
   "metadata": {},
   "outputs": [],
   "source": [
    "df_pd_merged = df_passive.merge(df_monitoring, on = \"customer\", how=\"inner\")"
   ]
  },
  {
   "cell_type": "code",
   "execution_count": 11,
   "metadata": {},
   "outputs": [],
   "source": [
    "df_pd_coverage = df_pd_merged[[\"customer\", \"data_coverage_per\", \"bsi_gsi\", \"age\", \"ema_smartphone_description\",\n",
    "                                \"scid_cv_description\", \"gender_description\"]].drop_duplicates(subset=[\"customer\"])"
   ]
  },
  {
   "cell_type": "code",
   "execution_count": 12,
   "metadata": {},
   "outputs": [
    {
     "data": {
      "text/html": [
       "<div>                            <div id=\"3d041340-b993-4d0d-b1b9-95b73e889efa\" class=\"plotly-graph-div\" style=\"height:525px; width:100%;\"></div>            <script type=\"text/javascript\">                require([\"plotly\"], function(Plotly) {                    window.PLOTLYENV=window.PLOTLYENV || {};                                    if (document.getElementById(\"3d041340-b993-4d0d-b1b9-95b73e889efa\")) {                    Plotly.newPlot(                        \"3d041340-b993-4d0d-b1b9-95b73e889efa\",                        [{\"alignmentgroup\":\"True\",\"box\":{\"visible\":true},\"hovertemplate\":\"ema_smartphone_description=%{x}<br>data_coverage_per=%{y}<extra></extra>\",\"legendgroup\":\"\",\"marker\":{\"color\":\"#636efa\"},\"name\":\"\",\"offsetgroup\":\"\",\"orientation\":\"v\",\"scalegroup\":\"True\",\"showlegend\":false,\"x\":[\"iPhone\",\"iPhone\",\"Android\",\"Android\",\"iPhone\",\"Android\",\"Android\",\"Android\",\"Android\",\"iPhone\",\"iPhone\",\"Android\",\"iPhone\",\"iPhone\",\"Android\",\"iPhone\",\"iPhone\",\"Android\",\"iPhone\",\"Android\",\"iPhone\",\"iPhone\",\"Android\",\"Android\",\"Android\",\"Android\",\"iPhone\",\"iPhone\",\"Android\",\"Android\",\"Android\",\"Android\",\"Android\",\"Android\",\"iPhone\",\"Android\",\"Android\",\"iPhone\",\"Android\",\"iPhone\",\"Android\",\"iPhone\",\"iPhone\",\"iPhone\",\"Android\",\"iPhone\",\"Android\",\"Android\",\"iPhone\",\"Android\",\"iPhone\",\"Android\",\"iPhone\",\"iPhone\",\"iPhone\",\"iPhone\",\"Android\",\"iPhone\",\"Android\",\"iPhone\",\"iPhone\",\"Android\",\"Android\",\"Android\",\"Android\",\"Android\",\"Android\",\"Android\",\"iPhone\",\"Android\",\"iPhone\",\"Android\",\"iPhone\",\"iPhone\",\"iPhone\",\"Android\",\"iPhone\",\"Android\",\"Android\",\"Android\",\"iPhone\",\"iPhone\",\"Android\",\"iPhone\",\"iPhone\",\"iPhone\",\"iPhone\",\"iPhone\",\"Android\",\"iPhone\",\"Android\",\"iPhone\",\"Android\",\"iPhone\",\"iPhone\",\"Android\",\"iPhone\",\"iPhone\",\"Android\",\"iPhone\",\"iPhone\",\"Android\",\"Android\",\"iPhone\",\"Android\",\"iPhone\",\"Android\",\"iPhone\",\"Android\",\"iPhone\",\"Android\",\"Android\",\"iPhone\",\"iPhone\",\"Android\",\"iPhone\",\"Android\",\"Android\",\"Android\",\"iPhone\",\"Android\",\"Android\",\"iPhone\",\"iPhone\",\"Android\",\"iPhone\",\"iPhone\",\"Android\",\"iPhone\",\"Android\",\"Android\",\"iPhone\",\"Android\",\"iPhone\",\"iPhone\",\"Android\",\"iPhone\",\"iPhone\",\"Android\",\"Android\",\"Android\",\"Android\",\"Android\",\"Android\",\"Android\",\"iPhone\",\"iPhone\",\"Android\",\"iPhone\",\"iPhone\",\"iPhone\",\"iPhone\",\"iPhone\",\"iPhone\",\"iPhone\",\"Android\",\"iPhone\",\"iPhone\",\"iPhone\",\"Android\",\"iPhone\",\"iPhone\",\"iPhone\",\"iPhone\",\"iPhone\",\"Android\",\"Android\",\"iPhone\",\"iPhone\",\"iPhone\",\"Android\",\"iPhone\",\"iPhone\",\"iPhone\",\"iPhone\",\"iPhone\",\"iPhone\",\"Android\"],\"x0\":\" \",\"xaxis\":\"x\",\"y\":[87.5,10.457516339869281,49.18032786885246,95.76719576719577,10.795454545454545,30.158730158730158,97.40259740259741,81.48148148148148,94.92753623188406,99.4186046511628,8.522727272727272,78.3068783068783,11.11111111111111,22.950819672131146,92.0,99.47089947089947,99.23664122137404,95.18716577540107,93.75,99.47089947089947,99.20634920634922,99.39393939393939,91.17647058823529,94.04761904761905,39.02439024390244,9.25925925925926,92.06349206349206,99.46808510638297,78.70967741935485,97.35449735449735,98.4126984126984,90.47619047619048,90.0,36.7816091954023,88.05970149253731,83.76623376623377,92.95774647887323,10.569105691056912,84.61538461538461,16.0,16.535433070866144,97.5609756097561,10.582010582010582,99.27007299270073,68.0,99.47089947089947,98.78048780487805,99.47089947089947,99.47089947089947,95.23809523809523,99.47089947089947,75.0,98.94179894179894,99.29078014184397,99.42528735632183,99.47089947089947,37.5,10.32258064516129,97.22222222222221,99.47089947089947,93.7888198757764,69.84126984126983,98.86363636363636,99.35483870967742,98.36065573770492,96.29629629629629,77.27272727272727,97.01492537313433,96.82539682539682,95.76719576719577,7.2992700729927,6.878306878306878,9.58904109589041,99.47089947089947,99.47089947089947,11.03448275862069,96.82539682539682,92.3076923076923,37.4331550802139,99.29078014184397,98.94179894179894,98.57142857142858,98.7012987012987,20.12987012987013,88.7218045112782,99.35064935064936,56.25,58.82352941176471,86.62790697674419,16.666666666666664,99.47089947089947,14.388489208633093,89.14285714285714,11.594202898550725,97.88359788359789,57.692307692307686,99.3103448275862,1.89873417721519,25.581395348837212,83.5978835978836,99.30555555555556,95.77464788732394,32.608695652173914,95.45454545454545,19.548872180451127,12.096774193548388,97.63779527559055,99.46524064171123,92.26190476190477,91.66666666666666,99.47089947089947,25.0,98.4126984126984,18.91891891891892,87.5,99.28057553956835,96.82539682539682,94.04761904761905,99.47089947089947,85.71428571428571,97.61904761904762,13.227513227513226,96.29629629629629,43.75,96.29629629629629,83.125,97.5,99.47089947089947,7.936507936507936,97.76536312849163,92.13483146067416,31.57894736842105,85.47008547008546,4.232804232804233,99.37106918238993,84.0,92.85714285714286,98.4126984126984,99.42196531791907,97.88359788359789,99.47089947089947,28.57142857142857,90.9090909090909,85.71428571428571,96.96969696969697,99.47089947089947,99.47089947089947,17.647058823529413,98.4126984126984,99.45054945054946,98.79518072289156,10.052910052910052,97.5,99.42196531791907,14.367816091954023,99.23664122137404,99.47089947089947,98.50746268656717,13.445378151260504,25.925925925925924,45.06172839506173,95.45454545454545,12.698412698412698,99.31972789115646,19.298245614035086,95.23809523809523,98.4126984126984,97.88359788359789,79.3103448275862,87.83068783068782,99.30555555555556,25.0,22.807017543859647,98.11320754716981,98.32402234636871,44.71544715447154,96.29629629629629,97.67441860465115],\"y0\":\" \",\"yaxis\":\"y\",\"type\":\"violin\"}],                        {\"template\":{\"data\":{\"histogram2dcontour\":[{\"type\":\"histogram2dcontour\",\"colorbar\":{\"outlinewidth\":0,\"ticks\":\"\"},\"colorscale\":[[0.0,\"#0d0887\"],[0.1111111111111111,\"#46039f\"],[0.2222222222222222,\"#7201a8\"],[0.3333333333333333,\"#9c179e\"],[0.4444444444444444,\"#bd3786\"],[0.5555555555555556,\"#d8576b\"],[0.6666666666666666,\"#ed7953\"],[0.7777777777777778,\"#fb9f3a\"],[0.8888888888888888,\"#fdca26\"],[1.0,\"#f0f921\"]]}],\"choropleth\":[{\"type\":\"choropleth\",\"colorbar\":{\"outlinewidth\":0,\"ticks\":\"\"}}],\"histogram2d\":[{\"type\":\"histogram2d\",\"colorbar\":{\"outlinewidth\":0,\"ticks\":\"\"},\"colorscale\":[[0.0,\"#0d0887\"],[0.1111111111111111,\"#46039f\"],[0.2222222222222222,\"#7201a8\"],[0.3333333333333333,\"#9c179e\"],[0.4444444444444444,\"#bd3786\"],[0.5555555555555556,\"#d8576b\"],[0.6666666666666666,\"#ed7953\"],[0.7777777777777778,\"#fb9f3a\"],[0.8888888888888888,\"#fdca26\"],[1.0,\"#f0f921\"]]}],\"heatmap\":[{\"type\":\"heatmap\",\"colorbar\":{\"outlinewidth\":0,\"ticks\":\"\"},\"colorscale\":[[0.0,\"#0d0887\"],[0.1111111111111111,\"#46039f\"],[0.2222222222222222,\"#7201a8\"],[0.3333333333333333,\"#9c179e\"],[0.4444444444444444,\"#bd3786\"],[0.5555555555555556,\"#d8576b\"],[0.6666666666666666,\"#ed7953\"],[0.7777777777777778,\"#fb9f3a\"],[0.8888888888888888,\"#fdca26\"],[1.0,\"#f0f921\"]]}],\"heatmapgl\":[{\"type\":\"heatmapgl\",\"colorbar\":{\"outlinewidth\":0,\"ticks\":\"\"},\"colorscale\":[[0.0,\"#0d0887\"],[0.1111111111111111,\"#46039f\"],[0.2222222222222222,\"#7201a8\"],[0.3333333333333333,\"#9c179e\"],[0.4444444444444444,\"#bd3786\"],[0.5555555555555556,\"#d8576b\"],[0.6666666666666666,\"#ed7953\"],[0.7777777777777778,\"#fb9f3a\"],[0.8888888888888888,\"#fdca26\"],[1.0,\"#f0f921\"]]}],\"contourcarpet\":[{\"type\":\"contourcarpet\",\"colorbar\":{\"outlinewidth\":0,\"ticks\":\"\"}}],\"contour\":[{\"type\":\"contour\",\"colorbar\":{\"outlinewidth\":0,\"ticks\":\"\"},\"colorscale\":[[0.0,\"#0d0887\"],[0.1111111111111111,\"#46039f\"],[0.2222222222222222,\"#7201a8\"],[0.3333333333333333,\"#9c179e\"],[0.4444444444444444,\"#bd3786\"],[0.5555555555555556,\"#d8576b\"],[0.6666666666666666,\"#ed7953\"],[0.7777777777777778,\"#fb9f3a\"],[0.8888888888888888,\"#fdca26\"],[1.0,\"#f0f921\"]]}],\"surface\":[{\"type\":\"surface\",\"colorbar\":{\"outlinewidth\":0,\"ticks\":\"\"},\"colorscale\":[[0.0,\"#0d0887\"],[0.1111111111111111,\"#46039f\"],[0.2222222222222222,\"#7201a8\"],[0.3333333333333333,\"#9c179e\"],[0.4444444444444444,\"#bd3786\"],[0.5555555555555556,\"#d8576b\"],[0.6666666666666666,\"#ed7953\"],[0.7777777777777778,\"#fb9f3a\"],[0.8888888888888888,\"#fdca26\"],[1.0,\"#f0f921\"]]}],\"mesh3d\":[{\"type\":\"mesh3d\",\"colorbar\":{\"outlinewidth\":0,\"ticks\":\"\"}}],\"scatter\":[{\"fillpattern\":{\"fillmode\":\"overlay\",\"size\":10,\"solidity\":0.2},\"type\":\"scatter\"}],\"parcoords\":[{\"type\":\"parcoords\",\"line\":{\"colorbar\":{\"outlinewidth\":0,\"ticks\":\"\"}}}],\"scatterpolargl\":[{\"type\":\"scatterpolargl\",\"marker\":{\"colorbar\":{\"outlinewidth\":0,\"ticks\":\"\"}}}],\"bar\":[{\"error_x\":{\"color\":\"#2a3f5f\"},\"error_y\":{\"color\":\"#2a3f5f\"},\"marker\":{\"line\":{\"color\":\"#E5ECF6\",\"width\":0.5},\"pattern\":{\"fillmode\":\"overlay\",\"size\":10,\"solidity\":0.2}},\"type\":\"bar\"}],\"scattergeo\":[{\"type\":\"scattergeo\",\"marker\":{\"colorbar\":{\"outlinewidth\":0,\"ticks\":\"\"}}}],\"scatterpolar\":[{\"type\":\"scatterpolar\",\"marker\":{\"colorbar\":{\"outlinewidth\":0,\"ticks\":\"\"}}}],\"histogram\":[{\"marker\":{\"pattern\":{\"fillmode\":\"overlay\",\"size\":10,\"solidity\":0.2}},\"type\":\"histogram\"}],\"scattergl\":[{\"type\":\"scattergl\",\"marker\":{\"colorbar\":{\"outlinewidth\":0,\"ticks\":\"\"}}}],\"scatter3d\":[{\"type\":\"scatter3d\",\"line\":{\"colorbar\":{\"outlinewidth\":0,\"ticks\":\"\"}},\"marker\":{\"colorbar\":{\"outlinewidth\":0,\"ticks\":\"\"}}}],\"scattermapbox\":[{\"type\":\"scattermapbox\",\"marker\":{\"colorbar\":{\"outlinewidth\":0,\"ticks\":\"\"}}}],\"scatterternary\":[{\"type\":\"scatterternary\",\"marker\":{\"colorbar\":{\"outlinewidth\":0,\"ticks\":\"\"}}}],\"scattercarpet\":[{\"type\":\"scattercarpet\",\"marker\":{\"colorbar\":{\"outlinewidth\":0,\"ticks\":\"\"}}}],\"carpet\":[{\"aaxis\":{\"endlinecolor\":\"#2a3f5f\",\"gridcolor\":\"white\",\"linecolor\":\"white\",\"minorgridcolor\":\"white\",\"startlinecolor\":\"#2a3f5f\"},\"baxis\":{\"endlinecolor\":\"#2a3f5f\",\"gridcolor\":\"white\",\"linecolor\":\"white\",\"minorgridcolor\":\"white\",\"startlinecolor\":\"#2a3f5f\"},\"type\":\"carpet\"}],\"table\":[{\"cells\":{\"fill\":{\"color\":\"#EBF0F8\"},\"line\":{\"color\":\"white\"}},\"header\":{\"fill\":{\"color\":\"#C8D4E3\"},\"line\":{\"color\":\"white\"}},\"type\":\"table\"}],\"barpolar\":[{\"marker\":{\"line\":{\"color\":\"#E5ECF6\",\"width\":0.5},\"pattern\":{\"fillmode\":\"overlay\",\"size\":10,\"solidity\":0.2}},\"type\":\"barpolar\"}],\"pie\":[{\"automargin\":true,\"type\":\"pie\"}]},\"layout\":{\"autotypenumbers\":\"strict\",\"colorway\":[\"#636efa\",\"#EF553B\",\"#00cc96\",\"#ab63fa\",\"#FFA15A\",\"#19d3f3\",\"#FF6692\",\"#B6E880\",\"#FF97FF\",\"#FECB52\"],\"font\":{\"color\":\"#2a3f5f\"},\"hovermode\":\"closest\",\"hoverlabel\":{\"align\":\"left\"},\"paper_bgcolor\":\"white\",\"plot_bgcolor\":\"#E5ECF6\",\"polar\":{\"bgcolor\":\"#E5ECF6\",\"angularaxis\":{\"gridcolor\":\"white\",\"linecolor\":\"white\",\"ticks\":\"\"},\"radialaxis\":{\"gridcolor\":\"white\",\"linecolor\":\"white\",\"ticks\":\"\"}},\"ternary\":{\"bgcolor\":\"#E5ECF6\",\"aaxis\":{\"gridcolor\":\"white\",\"linecolor\":\"white\",\"ticks\":\"\"},\"baxis\":{\"gridcolor\":\"white\",\"linecolor\":\"white\",\"ticks\":\"\"},\"caxis\":{\"gridcolor\":\"white\",\"linecolor\":\"white\",\"ticks\":\"\"}},\"coloraxis\":{\"colorbar\":{\"outlinewidth\":0,\"ticks\":\"\"}},\"colorscale\":{\"sequential\":[[0.0,\"#0d0887\"],[0.1111111111111111,\"#46039f\"],[0.2222222222222222,\"#7201a8\"],[0.3333333333333333,\"#9c179e\"],[0.4444444444444444,\"#bd3786\"],[0.5555555555555556,\"#d8576b\"],[0.6666666666666666,\"#ed7953\"],[0.7777777777777778,\"#fb9f3a\"],[0.8888888888888888,\"#fdca26\"],[1.0,\"#f0f921\"]],\"sequentialminus\":[[0.0,\"#0d0887\"],[0.1111111111111111,\"#46039f\"],[0.2222222222222222,\"#7201a8\"],[0.3333333333333333,\"#9c179e\"],[0.4444444444444444,\"#bd3786\"],[0.5555555555555556,\"#d8576b\"],[0.6666666666666666,\"#ed7953\"],[0.7777777777777778,\"#fb9f3a\"],[0.8888888888888888,\"#fdca26\"],[1.0,\"#f0f921\"]],\"diverging\":[[0,\"#8e0152\"],[0.1,\"#c51b7d\"],[0.2,\"#de77ae\"],[0.3,\"#f1b6da\"],[0.4,\"#fde0ef\"],[0.5,\"#f7f7f7\"],[0.6,\"#e6f5d0\"],[0.7,\"#b8e186\"],[0.8,\"#7fbc41\"],[0.9,\"#4d9221\"],[1,\"#276419\"]]},\"xaxis\":{\"gridcolor\":\"white\",\"linecolor\":\"white\",\"ticks\":\"\",\"title\":{\"standoff\":15},\"zerolinecolor\":\"white\",\"automargin\":true,\"zerolinewidth\":2},\"yaxis\":{\"gridcolor\":\"white\",\"linecolor\":\"white\",\"ticks\":\"\",\"title\":{\"standoff\":15},\"zerolinecolor\":\"white\",\"automargin\":true,\"zerolinewidth\":2},\"scene\":{\"xaxis\":{\"backgroundcolor\":\"#E5ECF6\",\"gridcolor\":\"white\",\"linecolor\":\"white\",\"showbackground\":true,\"ticks\":\"\",\"zerolinecolor\":\"white\",\"gridwidth\":2},\"yaxis\":{\"backgroundcolor\":\"#E5ECF6\",\"gridcolor\":\"white\",\"linecolor\":\"white\",\"showbackground\":true,\"ticks\":\"\",\"zerolinecolor\":\"white\",\"gridwidth\":2},\"zaxis\":{\"backgroundcolor\":\"#E5ECF6\",\"gridcolor\":\"white\",\"linecolor\":\"white\",\"showbackground\":true,\"ticks\":\"\",\"zerolinecolor\":\"white\",\"gridwidth\":2}},\"shapedefaults\":{\"line\":{\"color\":\"#2a3f5f\"}},\"annotationdefaults\":{\"arrowcolor\":\"#2a3f5f\",\"arrowhead\":0,\"arrowwidth\":1},\"geo\":{\"bgcolor\":\"white\",\"landcolor\":\"#E5ECF6\",\"subunitcolor\":\"white\",\"showland\":true,\"showlakes\":true,\"lakecolor\":\"white\"},\"title\":{\"x\":0.05},\"mapbox\":{\"style\":\"light\"},\"margin\":{\"b\":0,\"l\":0,\"r\":0,\"t\":30}}},\"xaxis\":{\"anchor\":\"y\",\"domain\":[0.0,1.0],\"title\":{\"text\":\"ema_smartphone_description\"}},\"yaxis\":{\"anchor\":\"x\",\"domain\":[0.0,1.0],\"title\":{\"text\":\"data_coverage_per\"}},\"legend\":{\"tracegroupgap\":0},\"title\":{\"text\":\"Passive Data Coverage per Smartphone\"},\"violinmode\":\"group\"},                        {\"responsive\": true}                    ).then(function(){\n",
       "                            \n",
       "var gd = document.getElementById('3d041340-b993-4d0d-b1b9-95b73e889efa');\n",
       "var x = new MutationObserver(function (mutations, observer) {{\n",
       "        var display = window.getComputedStyle(gd).display;\n",
       "        if (!display || display === 'none') {{\n",
       "            console.log([gd, 'removed!']);\n",
       "            Plotly.purge(gd);\n",
       "            observer.disconnect();\n",
       "        }}\n",
       "}});\n",
       "\n",
       "// Listen for the removal of the full notebook cells\n",
       "var notebookContainer = gd.closest('#notebook-container');\n",
       "if (notebookContainer) {{\n",
       "    x.observe(notebookContainer, {childList: true});\n",
       "}}\n",
       "\n",
       "// Listen for the clearing of the current output cell\n",
       "var outputEl = gd.closest('.output');\n",
       "if (outputEl) {{\n",
       "    x.observe(outputEl, {childList: true});\n",
       "}}\n",
       "\n",
       "                        })                };                });            </script>        </div>"
      ]
     },
     "metadata": {},
     "output_type": "display_data"
    }
   ],
   "source": [
    "# Assuming df_gps_coverage is your DataFrame\n",
    "fig = px.violin(df_pd_coverage, \n",
    "                y=\"data_coverage_per\", \n",
    "                x=\"ema_smartphone_description\", \n",
    "                box=True,  # Shows a box plot inside the violin\n",
    "                title=\"Passive Data Coverage per Smartphone\")\n",
    "\n",
    "fig.show()"
   ]
  },
  {
   "cell_type": "code",
   "execution_count": 13,
   "metadata": {},
   "outputs": [],
   "source": [
    "# Assuming df_gps_coverage is your DataFrame\n",
    "fig = px.violin(df_pd_coverage, \n",
    "                y=\"data_coverage_per\", \n",
    "                x=\"scid_cv_description\", \n",
    "                box=True,  # Shows a box plot inside the violin\n",
    "                points='all',\n",
    "                title=\"Passive Data Coverage SCID Diagnosis\")\n",
    "\n",
    "#fig.show()"
   ]
  },
  {
   "cell_type": "markdown",
   "metadata": {},
   "source": [
    "### EMA data"
   ]
  },
  {
   "cell_type": "code",
   "execution_count": 14,
   "metadata": {},
   "outputs": [
    {
     "data": {
      "text/plain": [
       "Index(['customer', 'sessionRun', 'quest_create', 'quest_complete', 'study',\n",
       "       'ema_id', 'study_version', 'for_id', 'status', 'ema_start_date',\n",
       "       'ema_smartphone', 'ema_wear_exp', 'ema_special_event', 'age', 'gender',\n",
       "       'marital_status', 'partnership', 'graduation', 'profession',\n",
       "       'years_of_education', 'employability', 'ses', 'somatic_problems',\n",
       "       'scid_cv_prim_cat', 'bsi_somatization', 'prior_treatment',\n",
       "       'bsi_compulsivity', 'bsi_insecurity', 'bsi_depression', 'bsi_anxiety',\n",
       "       'bsi_aggression', 'bsi_phobia', 'bsi_paranoia', 'bsi_psychotizism',\n",
       "       'bsi_additional', 'bsi_gs', 'bsi_gsi', 'gender_description',\n",
       "       'scid_cv_description', 'marital_status_description',\n",
       "       'employability_description', 'graduation_description',\n",
       "       'profession_description', 'prior_treatment_description',\n",
       "       'ema_smartphone_description', 'ema_special_event_description',\n",
       "       'costs_ema_min', 'costs_ema_burden', 'costs_ema_text',\n",
       "       'quest_create_day', 'quest_complete_day', 'quest_create_hour',\n",
       "       'quest_complete_hour', 'nquest_EMA1', 'nquest_EMA2',\n",
       "       'quest_complete_relative1', 'daily_entries_sum'],\n",
       "      dtype='object')"
      ]
     },
     "execution_count": 14,
     "metadata": {},
     "output_type": "execute_result"
    }
   ],
   "source": [
    "df_active.columns"
   ]
  },
  {
   "cell_type": "code",
   "execution_count": 15,
   "metadata": {},
   "outputs": [
    {
     "data": {
      "text/plain": [
       "187"
      ]
     },
     "execution_count": 15,
     "metadata": {},
     "output_type": "execute_result"
    }
   ],
   "source": [
    "df_gps.relative_day.max()"
   ]
  },
  {
   "cell_type": "markdown",
   "metadata": {},
   "source": [
    "### Data coverage across time"
   ]
  },
  {
   "cell_type": "code",
   "execution_count": 16,
   "metadata": {},
   "outputs": [],
   "source": [
    "df_gps_merged_active = df_gps_merged.loc[df_gps_merged.status.isin(['Erhebung_1_aktiv', 'Post_Erhebung_1', 'Post_Erhebung_2','Erhebung_2_aktiv', 'Abgeschlossen'])]\n",
    "df_gps_merged_active = df_gps_merged_active.loc[df_gps_merged_active.study_version.isin(['Lang', 'Lang(Wechsel)'])]"
   ]
  },
  {
   "cell_type": "code",
   "execution_count": 17,
   "metadata": {},
   "outputs": [],
   "source": [
    "df_pd_merged_active = df_pd_merged.loc[df_pd_merged.status.isin(['Erhebung_1_aktiv', 'Post_Erhebung_1', 'Post_Erhebung_2','Erhebung_2_aktiv', 'Abgeschlossen'])]\n",
    "df_pd_merged_active = df_pd_merged_active.loc[df_pd_merged_active.study_version.isin(['Lang', 'Lang(Wechsel)'])]"
   ]
  },
  {
   "cell_type": "code",
   "execution_count": 18,
   "metadata": {},
   "outputs": [],
   "source": [
    "df_gps_merged_active = df_gps_merged_active.loc[df_gps_merged_active.potential_days_coverage >=60]\n",
    "df_pd_merged_active = df_pd_merged_active.loc[df_pd_merged_active.potential_days_coverage >=60]"
   ]
  },
  {
   "cell_type": "code",
   "execution_count": 19,
   "metadata": {},
   "outputs": [
    {
     "data": {
      "text/html": [
       "<div>                            <div id=\"aa87fca3-fdf6-42aa-8e9a-6061a3a58f5e\" class=\"plotly-graph-div\" style=\"height:525px; width:100%;\"></div>            <script type=\"text/javascript\">                require([\"plotly\"], function(Plotly) {                    window.PLOTLYENV=window.PLOTLYENV || {};                                    if (document.getElementById(\"aa87fca3-fdf6-42aa-8e9a-6061a3a58f5e\")) {                    Plotly.newPlot(                        \"aa87fca3-fdf6-42aa-8e9a-6061a3a58f5e\",                        [{\"hovertemplate\":\"Data Source=gps_percentage<br>Relative Day=%{x}<br>Percentage of available patients=%{y}<extra></extra>\",\"legendgroup\":\"gps_percentage\",\"line\":{\"color\":\"#636efa\",\"dash\":\"solid\"},\"marker\":{\"symbol\":\"circle\"},\"mode\":\"lines+markers\",\"name\":\"gps_percentage\",\"orientation\":\"v\",\"showlegend\":true,\"x\":[1,2,3,4,5,6,7,8,9,10,11,12,13,14,15,16,17,18,19,20,21,22,23,24,25,26,27,28,29,30,31,32,33,34,35,36,37,38,39,40,41,42,43,44,45,46,47,48,49,50,51,52,53,54,55,56,57,58,59,60],\"xaxis\":\"x\",\"y\":[74.46808510638297,68.08510638297872,73.40425531914893,73.40425531914893,72.3404255319149,73.40425531914893,70.2127659574468,71.27659574468085,71.27659574468085,71.27659574468085,68.08510638297872,71.27659574468085,73.40425531914893,71.27659574468085,70.2127659574468,60.63829787234043,58.51063829787234,54.25531914893617,52.12765957446809,53.191489361702125,56.38297872340425,54.25531914893617,54.25531914893617,57.446808510638306,57.446808510638306,57.446808510638306,65.95744680851064,65.95744680851064,67.02127659574468,61.702127659574465,55.319148936170215,62.76595744680851,63.829787234042556,63.829787234042556,59.57446808510638,59.57446808510638,48.93617021276596,46.808510638297875,53.191489361702125,52.12765957446809,57.446808510638306,56.38297872340425,54.25531914893617,53.191489361702125,55.319148936170215,54.25531914893617,55.319148936170215,57.446808510638306,60.63829787234043,55.319148936170215,53.191489361702125,48.93617021276596,60.63829787234043,61.702127659574465,62.76595744680851,62.76595744680851,65.95744680851064,63.829787234042556,63.829787234042556,61.702127659574465],\"yaxis\":\"y\",\"type\":\"scatter\"},{\"hovertemplate\":\"Data Source=smartwatch_percentage<br>Relative Day=%{x}<br>Percentage of available patients=%{y}<extra></extra>\",\"legendgroup\":\"smartwatch_percentage\",\"line\":{\"color\":\"#EF553B\",\"dash\":\"solid\"},\"marker\":{\"symbol\":\"circle\"},\"mode\":\"lines+markers\",\"name\":\"smartwatch_percentage\",\"orientation\":\"v\",\"showlegend\":true,\"x\":[1,2,3,4,5,6,7,8,9,10,11,12,13,14,15,16,17,18,19,20,21,22,23,24,25,26,27,28,29,30,31,32,33,34,35,36,37,38,39,40,41,42,43,44,45,46,47,48,49,50,51,52,53,54,55,56,57,58,59,60],\"xaxis\":\"x\",\"y\":[96.84210526315789,98.94736842105263,98.94736842105263,97.89473684210527,98.94736842105263,98.94736842105263,98.94736842105263,98.94736842105263,98.94736842105263,98.94736842105263,98.94736842105263,97.89473684210527,98.94736842105263,97.89473684210527,98.94736842105263,97.89473684210527,98.94736842105263,98.94736842105263,97.89473684210527,97.89473684210527,97.89473684210527,96.84210526315789,96.84210526315789,97.89473684210527,97.89473684210527,97.89473684210527,97.89473684210527,97.89473684210527,96.84210526315789,97.89473684210527,95.78947368421052,94.73684210526315,93.6842105263158,94.73684210526315,94.73684210526315,94.73684210526315,95.78947368421052,95.78947368421052,95.78947368421052,95.78947368421052,97.89473684210527,95.78947368421052,95.78947368421052,93.6842105263158,94.73684210526315,94.73684210526315,94.73684210526315,94.73684210526315,95.78947368421052,95.78947368421052,95.78947368421052,95.78947368421052,95.78947368421052,95.78947368421052,95.78947368421052,95.78947368421052,94.73684210526315,92.63157894736842,93.6842105263158,91.57894736842105],\"yaxis\":\"y\",\"type\":\"scatter\"}],                        {\"template\":{\"data\":{\"histogram2dcontour\":[{\"type\":\"histogram2dcontour\",\"colorbar\":{\"outlinewidth\":0,\"ticks\":\"\"},\"colorscale\":[[0.0,\"#0d0887\"],[0.1111111111111111,\"#46039f\"],[0.2222222222222222,\"#7201a8\"],[0.3333333333333333,\"#9c179e\"],[0.4444444444444444,\"#bd3786\"],[0.5555555555555556,\"#d8576b\"],[0.6666666666666666,\"#ed7953\"],[0.7777777777777778,\"#fb9f3a\"],[0.8888888888888888,\"#fdca26\"],[1.0,\"#f0f921\"]]}],\"choropleth\":[{\"type\":\"choropleth\",\"colorbar\":{\"outlinewidth\":0,\"ticks\":\"\"}}],\"histogram2d\":[{\"type\":\"histogram2d\",\"colorbar\":{\"outlinewidth\":0,\"ticks\":\"\"},\"colorscale\":[[0.0,\"#0d0887\"],[0.1111111111111111,\"#46039f\"],[0.2222222222222222,\"#7201a8\"],[0.3333333333333333,\"#9c179e\"],[0.4444444444444444,\"#bd3786\"],[0.5555555555555556,\"#d8576b\"],[0.6666666666666666,\"#ed7953\"],[0.7777777777777778,\"#fb9f3a\"],[0.8888888888888888,\"#fdca26\"],[1.0,\"#f0f921\"]]}],\"heatmap\":[{\"type\":\"heatmap\",\"colorbar\":{\"outlinewidth\":0,\"ticks\":\"\"},\"colorscale\":[[0.0,\"#0d0887\"],[0.1111111111111111,\"#46039f\"],[0.2222222222222222,\"#7201a8\"],[0.3333333333333333,\"#9c179e\"],[0.4444444444444444,\"#bd3786\"],[0.5555555555555556,\"#d8576b\"],[0.6666666666666666,\"#ed7953\"],[0.7777777777777778,\"#fb9f3a\"],[0.8888888888888888,\"#fdca26\"],[1.0,\"#f0f921\"]]}],\"heatmapgl\":[{\"type\":\"heatmapgl\",\"colorbar\":{\"outlinewidth\":0,\"ticks\":\"\"},\"colorscale\":[[0.0,\"#0d0887\"],[0.1111111111111111,\"#46039f\"],[0.2222222222222222,\"#7201a8\"],[0.3333333333333333,\"#9c179e\"],[0.4444444444444444,\"#bd3786\"],[0.5555555555555556,\"#d8576b\"],[0.6666666666666666,\"#ed7953\"],[0.7777777777777778,\"#fb9f3a\"],[0.8888888888888888,\"#fdca26\"],[1.0,\"#f0f921\"]]}],\"contourcarpet\":[{\"type\":\"contourcarpet\",\"colorbar\":{\"outlinewidth\":0,\"ticks\":\"\"}}],\"contour\":[{\"type\":\"contour\",\"colorbar\":{\"outlinewidth\":0,\"ticks\":\"\"},\"colorscale\":[[0.0,\"#0d0887\"],[0.1111111111111111,\"#46039f\"],[0.2222222222222222,\"#7201a8\"],[0.3333333333333333,\"#9c179e\"],[0.4444444444444444,\"#bd3786\"],[0.5555555555555556,\"#d8576b\"],[0.6666666666666666,\"#ed7953\"],[0.7777777777777778,\"#fb9f3a\"],[0.8888888888888888,\"#fdca26\"],[1.0,\"#f0f921\"]]}],\"surface\":[{\"type\":\"surface\",\"colorbar\":{\"outlinewidth\":0,\"ticks\":\"\"},\"colorscale\":[[0.0,\"#0d0887\"],[0.1111111111111111,\"#46039f\"],[0.2222222222222222,\"#7201a8\"],[0.3333333333333333,\"#9c179e\"],[0.4444444444444444,\"#bd3786\"],[0.5555555555555556,\"#d8576b\"],[0.6666666666666666,\"#ed7953\"],[0.7777777777777778,\"#fb9f3a\"],[0.8888888888888888,\"#fdca26\"],[1.0,\"#f0f921\"]]}],\"mesh3d\":[{\"type\":\"mesh3d\",\"colorbar\":{\"outlinewidth\":0,\"ticks\":\"\"}}],\"scatter\":[{\"fillpattern\":{\"fillmode\":\"overlay\",\"size\":10,\"solidity\":0.2},\"type\":\"scatter\"}],\"parcoords\":[{\"type\":\"parcoords\",\"line\":{\"colorbar\":{\"outlinewidth\":0,\"ticks\":\"\"}}}],\"scatterpolargl\":[{\"type\":\"scatterpolargl\",\"marker\":{\"colorbar\":{\"outlinewidth\":0,\"ticks\":\"\"}}}],\"bar\":[{\"error_x\":{\"color\":\"#2a3f5f\"},\"error_y\":{\"color\":\"#2a3f5f\"},\"marker\":{\"line\":{\"color\":\"#E5ECF6\",\"width\":0.5},\"pattern\":{\"fillmode\":\"overlay\",\"size\":10,\"solidity\":0.2}},\"type\":\"bar\"}],\"scattergeo\":[{\"type\":\"scattergeo\",\"marker\":{\"colorbar\":{\"outlinewidth\":0,\"ticks\":\"\"}}}],\"scatterpolar\":[{\"type\":\"scatterpolar\",\"marker\":{\"colorbar\":{\"outlinewidth\":0,\"ticks\":\"\"}}}],\"histogram\":[{\"marker\":{\"pattern\":{\"fillmode\":\"overlay\",\"size\":10,\"solidity\":0.2}},\"type\":\"histogram\"}],\"scattergl\":[{\"type\":\"scattergl\",\"marker\":{\"colorbar\":{\"outlinewidth\":0,\"ticks\":\"\"}}}],\"scatter3d\":[{\"type\":\"scatter3d\",\"line\":{\"colorbar\":{\"outlinewidth\":0,\"ticks\":\"\"}},\"marker\":{\"colorbar\":{\"outlinewidth\":0,\"ticks\":\"\"}}}],\"scattermapbox\":[{\"type\":\"scattermapbox\",\"marker\":{\"colorbar\":{\"outlinewidth\":0,\"ticks\":\"\"}}}],\"scatterternary\":[{\"type\":\"scatterternary\",\"marker\":{\"colorbar\":{\"outlinewidth\":0,\"ticks\":\"\"}}}],\"scattercarpet\":[{\"type\":\"scattercarpet\",\"marker\":{\"colorbar\":{\"outlinewidth\":0,\"ticks\":\"\"}}}],\"carpet\":[{\"aaxis\":{\"endlinecolor\":\"#2a3f5f\",\"gridcolor\":\"white\",\"linecolor\":\"white\",\"minorgridcolor\":\"white\",\"startlinecolor\":\"#2a3f5f\"},\"baxis\":{\"endlinecolor\":\"#2a3f5f\",\"gridcolor\":\"white\",\"linecolor\":\"white\",\"minorgridcolor\":\"white\",\"startlinecolor\":\"#2a3f5f\"},\"type\":\"carpet\"}],\"table\":[{\"cells\":{\"fill\":{\"color\":\"#EBF0F8\"},\"line\":{\"color\":\"white\"}},\"header\":{\"fill\":{\"color\":\"#C8D4E3\"},\"line\":{\"color\":\"white\"}},\"type\":\"table\"}],\"barpolar\":[{\"marker\":{\"line\":{\"color\":\"#E5ECF6\",\"width\":0.5},\"pattern\":{\"fillmode\":\"overlay\",\"size\":10,\"solidity\":0.2}},\"type\":\"barpolar\"}],\"pie\":[{\"automargin\":true,\"type\":\"pie\"}]},\"layout\":{\"autotypenumbers\":\"strict\",\"colorway\":[\"#636efa\",\"#EF553B\",\"#00cc96\",\"#ab63fa\",\"#FFA15A\",\"#19d3f3\",\"#FF6692\",\"#B6E880\",\"#FF97FF\",\"#FECB52\"],\"font\":{\"color\":\"#2a3f5f\"},\"hovermode\":\"closest\",\"hoverlabel\":{\"align\":\"left\"},\"paper_bgcolor\":\"white\",\"plot_bgcolor\":\"#E5ECF6\",\"polar\":{\"bgcolor\":\"#E5ECF6\",\"angularaxis\":{\"gridcolor\":\"white\",\"linecolor\":\"white\",\"ticks\":\"\"},\"radialaxis\":{\"gridcolor\":\"white\",\"linecolor\":\"white\",\"ticks\":\"\"}},\"ternary\":{\"bgcolor\":\"#E5ECF6\",\"aaxis\":{\"gridcolor\":\"white\",\"linecolor\":\"white\",\"ticks\":\"\"},\"baxis\":{\"gridcolor\":\"white\",\"linecolor\":\"white\",\"ticks\":\"\"},\"caxis\":{\"gridcolor\":\"white\",\"linecolor\":\"white\",\"ticks\":\"\"}},\"coloraxis\":{\"colorbar\":{\"outlinewidth\":0,\"ticks\":\"\"}},\"colorscale\":{\"sequential\":[[0.0,\"#0d0887\"],[0.1111111111111111,\"#46039f\"],[0.2222222222222222,\"#7201a8\"],[0.3333333333333333,\"#9c179e\"],[0.4444444444444444,\"#bd3786\"],[0.5555555555555556,\"#d8576b\"],[0.6666666666666666,\"#ed7953\"],[0.7777777777777778,\"#fb9f3a\"],[0.8888888888888888,\"#fdca26\"],[1.0,\"#f0f921\"]],\"sequentialminus\":[[0.0,\"#0d0887\"],[0.1111111111111111,\"#46039f\"],[0.2222222222222222,\"#7201a8\"],[0.3333333333333333,\"#9c179e\"],[0.4444444444444444,\"#bd3786\"],[0.5555555555555556,\"#d8576b\"],[0.6666666666666666,\"#ed7953\"],[0.7777777777777778,\"#fb9f3a\"],[0.8888888888888888,\"#fdca26\"],[1.0,\"#f0f921\"]],\"diverging\":[[0,\"#8e0152\"],[0.1,\"#c51b7d\"],[0.2,\"#de77ae\"],[0.3,\"#f1b6da\"],[0.4,\"#fde0ef\"],[0.5,\"#f7f7f7\"],[0.6,\"#e6f5d0\"],[0.7,\"#b8e186\"],[0.8,\"#7fbc41\"],[0.9,\"#4d9221\"],[1,\"#276419\"]]},\"xaxis\":{\"gridcolor\":\"white\",\"linecolor\":\"white\",\"ticks\":\"\",\"title\":{\"standoff\":15},\"zerolinecolor\":\"white\",\"automargin\":true,\"zerolinewidth\":2},\"yaxis\":{\"gridcolor\":\"white\",\"linecolor\":\"white\",\"ticks\":\"\",\"title\":{\"standoff\":15},\"zerolinecolor\":\"white\",\"automargin\":true,\"zerolinewidth\":2},\"scene\":{\"xaxis\":{\"backgroundcolor\":\"#E5ECF6\",\"gridcolor\":\"white\",\"linecolor\":\"white\",\"showbackground\":true,\"ticks\":\"\",\"zerolinecolor\":\"white\",\"gridwidth\":2},\"yaxis\":{\"backgroundcolor\":\"#E5ECF6\",\"gridcolor\":\"white\",\"linecolor\":\"white\",\"showbackground\":true,\"ticks\":\"\",\"zerolinecolor\":\"white\",\"gridwidth\":2},\"zaxis\":{\"backgroundcolor\":\"#E5ECF6\",\"gridcolor\":\"white\",\"linecolor\":\"white\",\"showbackground\":true,\"ticks\":\"\",\"zerolinecolor\":\"white\",\"gridwidth\":2}},\"shapedefaults\":{\"line\":{\"color\":\"#2a3f5f\"}},\"annotationdefaults\":{\"arrowcolor\":\"#2a3f5f\",\"arrowhead\":0,\"arrowwidth\":1},\"geo\":{\"bgcolor\":\"white\",\"landcolor\":\"#E5ECF6\",\"subunitcolor\":\"white\",\"showland\":true,\"showlakes\":true,\"lakecolor\":\"white\"},\"title\":{\"x\":0.05},\"mapbox\":{\"style\":\"light\"},\"margin\":{\"b\":0,\"l\":0,\"r\":0,\"t\":30}}},\"xaxis\":{\"anchor\":\"y\",\"domain\":[0.0,1.0],\"title\":{\"text\":\"Relative Day\"}},\"yaxis\":{\"anchor\":\"x\",\"domain\":[0.0,1.0],\"title\":{\"text\":\"Percentage of available patients\"}},\"legend\":{\"title\":{\"text\":\"Data Source\"},\"tracegroupgap\":0},\"title\":{\"text\":\"Coverage of GPS and Smartwatch data. N=95\"},\"shapes\":[{\"line\":{\"color\":\"grey\",\"dash\":\"dash\",\"width\":1},\"type\":\"line\",\"x0\":15,\"x1\":15,\"xref\":\"x\",\"y0\":0,\"y1\":1,\"yref\":\"y domain\"}]},                        {\"responsive\": true}                    ).then(function(){\n",
       "                            \n",
       "var gd = document.getElementById('aa87fca3-fdf6-42aa-8e9a-6061a3a58f5e');\n",
       "var x = new MutationObserver(function (mutations, observer) {{\n",
       "        var display = window.getComputedStyle(gd).display;\n",
       "        if (!display || display === 'none') {{\n",
       "            console.log([gd, 'removed!']);\n",
       "            Plotly.purge(gd);\n",
       "            observer.disconnect();\n",
       "        }}\n",
       "}});\n",
       "\n",
       "// Listen for the removal of the full notebook cells\n",
       "var notebookContainer = gd.closest('#notebook-container');\n",
       "if (notebookContainer) {{\n",
       "    x.observe(notebookContainer, {childList: true});\n",
       "}}\n",
       "\n",
       "// Listen for the clearing of the current output cell\n",
       "var outputEl = gd.closest('.output');\n",
       "if (outputEl) {{\n",
       "    x.observe(outputEl, {childList: true});\n",
       "}}\n",
       "\n",
       "                        })                };                });            </script>        </div>"
      ]
     },
     "metadata": {},
     "output_type": "display_data"
    }
   ],
   "source": [
    "# Calculate the total number of unique customers in each DataFrame\n",
    "total_gps_customers = df_gps_merged_active['customer'].nunique()\n",
    "total_smartwatch_customers = df_pd_merged_active['customer'].nunique()\n",
    "\n",
    "# Calculate the number of unique customers per day for GPS and smartwatch data\n",
    "gps_customer_data = df_gps_merged_active.groupby('relative_day')['customer'].nunique().reset_index()\n",
    "smartwatch_customer_data = df_pd_merged_active.groupby('relative_day')['customer'].nunique().reset_index()\n",
    "\n",
    "# Calculate percentages\n",
    "gps_customer_data['percentage_of_customers'] = (gps_customer_data['customer'] / total_gps_customers) * 100\n",
    "smartwatch_customer_data['percentage_of_customers'] = (smartwatch_customer_data['customer'] / total_smartwatch_customers) * 100\n",
    "\n",
    "# Create a DataFrame with all days from 1 to 100\n",
    "all_days = pd.DataFrame({'relative_day': range(1, 61)})\n",
    "\n",
    "# Merge and fill missing days with 0 for both datasets\n",
    "complete_gps_data = all_days.merge(gps_customer_data, on='relative_day', how='left').fillna(0)\n",
    "complete_smartwatch_data = all_days.merge(smartwatch_customer_data, on='relative_day', how='left').fillna(0)\n",
    "\n",
    "# Merge both datasets into a single DataFrame for plotting\n",
    "plot_data = complete_gps_data[['relative_day', 'percentage_of_customers']].rename(columns={'percentage_of_customers': 'gps_percentage'})\n",
    "plot_data = plot_data.merge(complete_smartwatch_data[['relative_day', 'percentage_of_customers']], on='relative_day', how='left').fillna(0).rename(columns={'percentage_of_customers': 'smartwatch_percentage'})\n",
    "\n",
    "# Create the line plot\n",
    "fig = px.line(plot_data,\n",
    "              x='relative_day',\n",
    "              y=['gps_percentage', 'smartwatch_percentage'],\n",
    "              title=f'Coverage of GPS and Smartwatch data. N={str(total_smartwatch_customers)}',\n",
    "              labels={'value': 'Percentage of available patients', 'variable': 'Data Source', 'relative_day': 'Relative Day'},\n",
    "              markers=True)\n",
    "\n",
    "# Add a vertical line at relative day 15\n",
    "fig.add_vline(x=15, line_width=1, line_dash=\"dash\", line_color=\"grey\")\n",
    "\n",
    "# Update legend titles\n",
    "fig.update_layout(legend_title_text='Data Source')\n",
    "fig.update_traces(mode='lines+markers')\n",
    "\n",
    "fig.show()\n"
   ]
  },
  {
   "cell_type": "code",
   "execution_count": 20,
   "metadata": {},
   "outputs": [
    {
     "data": {
      "text/html": [
       "<div>                            <div id=\"ac0a79a3-41e8-421c-ac6e-d49ec49a9d5f\" class=\"plotly-graph-div\" style=\"height:525px; width:100%;\"></div>            <script type=\"text/javascript\">                require([\"plotly\"], function(Plotly) {                    window.PLOTLYENV=window.PLOTLYENV || {};                                    if (document.getElementById(\"ac0a79a3-41e8-421c-ac6e-d49ec49a9d5f\")) {                    Plotly.newPlot(                        \"ac0a79a3-41e8-421c-ac6e-d49ec49a9d5f\",                        [{\"hovertemplate\":\"ema_smartphone_description=Android<br>Relative Day=%{x}<br>% Patients=%{y}<extra></extra>\",\"legendgroup\":\"Android\",\"line\":{\"color\":\"#636efa\",\"dash\":\"solid\"},\"marker\":{\"symbol\":\"circle\"},\"mode\":\"lines+markers\",\"name\":\"Android\",\"orientation\":\"v\",\"showlegend\":true,\"x\":[1,2,3,4,5,6,7,8,9,10,11,12,13,14,15,16,17,18,19,20,21,22,23,24,25,26,27,28,29,30,31,32,33,34,35,36,37,38,39,40,41,42,43,44,45,46,47,48,49,50,51,52,53,54,55,56,57,58,59,60,61,62,63,64,65,66,67,68,69,70,71,72,73,74,75,76,77,78,79,80,81,82,83,84,85,86,87,88,89,90,91,92,93,94,95,96,97,98,99,100],\"xaxis\":\"x\",\"y\":[67.44186046511628,51.162790697674424,53.48837209302325,55.81395348837209,58.139534883720934,55.81395348837209,48.837209302325576,53.48837209302325,51.162790697674424,51.162790697674424,53.48837209302325,58.139534883720934,60.46511627906976,51.162790697674424,48.837209302325576,32.55813953488372,34.883720930232556,27.906976744186046,18.6046511627907,23.25581395348837,27.906976744186046,23.25581395348837,30.23255813953488,30.23255813953488,23.25581395348837,25.581395348837212,34.883720930232556,44.18604651162791,44.18604651162791,30.23255813953488,30.23255813953488,41.86046511627907,41.86046511627907,34.883720930232556,30.23255813953488,27.906976744186046,25.581395348837212,18.6046511627907,30.23255813953488,25.581395348837212,25.581395348837212,25.581395348837212,18.6046511627907,20.930232558139537,20.930232558139537,27.906976744186046,27.906976744186046,37.2093023255814,34.883720930232556,25.581395348837212,25.581395348837212,16.27906976744186,32.55813953488372,32.55813953488372,34.883720930232556,32.55813953488372,41.86046511627907,39.53488372093023,37.2093023255814,41.86046511627907,34.883720930232556,41.86046511627907,30.23255813953488,44.18604651162791,37.2093023255814,34.883720930232556,44.18604651162791,37.2093023255814,27.906976744186046,44.18604651162791,34.883720930232556,37.2093023255814,37.2093023255814,39.53488372093023,37.2093023255814,30.23255813953488,32.55813953488372,30.23255813953488,39.53488372093023,48.837209302325576,46.51162790697674,39.53488372093023,37.2093023255814,41.86046511627907,32.55813953488372,20.930232558139537,16.27906976744186,25.581395348837212,18.6046511627907,18.6046511627907,20.930232558139537,32.55813953488372,25.581395348837212,25.581395348837212,30.23255813953488,34.883720930232556,25.581395348837212,27.906976744186046,32.55813953488372,30.23255813953488],\"yaxis\":\"y\",\"type\":\"scatter\"},{\"hovertemplate\":\"ema_smartphone_description=iPhone<br>Relative Day=%{x}<br>% Patients=%{y}<extra></extra>\",\"legendgroup\":\"iPhone\",\"line\":{\"color\":\"#EF553B\",\"dash\":\"solid\"},\"marker\":{\"symbol\":\"circle\"},\"mode\":\"lines+markers\",\"name\":\"iPhone\",\"orientation\":\"v\",\"showlegend\":true,\"x\":[1,2,3,4,5,6,7,8,9,10,11,12,13,14,15,16,17,18,19,20,21,22,23,24,25,26,27,28,29,30,31,32,33,34,35,36,37,38,39,40,41,42,43,44,45,46,47,48,49,50,51,52,53,54,55,56,57,58,59,60,61,62,63,64,65,66,67,68,69,70,71,72,73,74,75,76,77,78,79,80,81,82,83,84,85,86,87,88,89,90,91,92,93,94,95,96,97,98,99,100],\"xaxis\":\"x\",\"y\":[80.3921568627451,82.35294117647058,90.19607843137256,88.23529411764706,84.31372549019608,88.23529411764706,88.23529411764706,86.27450980392157,88.23529411764706,88.23529411764706,80.3921568627451,82.35294117647058,84.31372549019608,88.23529411764706,88.23529411764706,84.31372549019608,78.43137254901961,76.47058823529412,80.3921568627451,78.43137254901961,80.3921568627451,80.3921568627451,74.50980392156863,80.3921568627451,86.27450980392157,84.31372549019608,92.15686274509804,84.31372549019608,86.27450980392157,88.23529411764706,76.47058823529412,80.3921568627451,82.35294117647058,88.23529411764706,84.31372549019608,86.27450980392157,68.62745098039215,70.58823529411765,72.54901960784314,74.50980392156863,84.31372549019608,82.35294117647058,84.31372549019608,80.3921568627451,84.31372549019608,76.47058823529412,78.43137254901961,74.50980392156863,82.35294117647058,80.3921568627451,76.47058823529412,76.47058823529412,84.31372549019608,86.27450980392157,86.27450980392157,88.23529411764706,86.27450980392157,84.31372549019608,86.27450980392157,78.43137254901961,78.43137254901961,78.43137254901961,78.43137254901961,74.50980392156863,76.47058823529412,70.58823529411765,78.43137254901961,74.50980392156863,78.43137254901961,82.35294117647058,86.27450980392157,82.35294117647058,74.50980392156863,78.43137254901961,74.50980392156863,82.35294117647058,76.47058823529412,74.50980392156863,68.62745098039215,66.66666666666666,66.66666666666666,72.54901960784314,72.54901960784314,72.54901960784314,70.58823529411765,72.54901960784314,68.62745098039215,66.66666666666666,66.66666666666666,76.47058823529412,78.43137254901961,72.54901960784314,72.54901960784314,72.54901960784314,68.62745098039215,76.47058823529412,76.47058823529412,70.58823529411765,80.3921568627451,68.62745098039215],\"yaxis\":\"y\",\"type\":\"scatter\"}],                        {\"template\":{\"data\":{\"histogram2dcontour\":[{\"type\":\"histogram2dcontour\",\"colorbar\":{\"outlinewidth\":0,\"ticks\":\"\"},\"colorscale\":[[0.0,\"#0d0887\"],[0.1111111111111111,\"#46039f\"],[0.2222222222222222,\"#7201a8\"],[0.3333333333333333,\"#9c179e\"],[0.4444444444444444,\"#bd3786\"],[0.5555555555555556,\"#d8576b\"],[0.6666666666666666,\"#ed7953\"],[0.7777777777777778,\"#fb9f3a\"],[0.8888888888888888,\"#fdca26\"],[1.0,\"#f0f921\"]]}],\"choropleth\":[{\"type\":\"choropleth\",\"colorbar\":{\"outlinewidth\":0,\"ticks\":\"\"}}],\"histogram2d\":[{\"type\":\"histogram2d\",\"colorbar\":{\"outlinewidth\":0,\"ticks\":\"\"},\"colorscale\":[[0.0,\"#0d0887\"],[0.1111111111111111,\"#46039f\"],[0.2222222222222222,\"#7201a8\"],[0.3333333333333333,\"#9c179e\"],[0.4444444444444444,\"#bd3786\"],[0.5555555555555556,\"#d8576b\"],[0.6666666666666666,\"#ed7953\"],[0.7777777777777778,\"#fb9f3a\"],[0.8888888888888888,\"#fdca26\"],[1.0,\"#f0f921\"]]}],\"heatmap\":[{\"type\":\"heatmap\",\"colorbar\":{\"outlinewidth\":0,\"ticks\":\"\"},\"colorscale\":[[0.0,\"#0d0887\"],[0.1111111111111111,\"#46039f\"],[0.2222222222222222,\"#7201a8\"],[0.3333333333333333,\"#9c179e\"],[0.4444444444444444,\"#bd3786\"],[0.5555555555555556,\"#d8576b\"],[0.6666666666666666,\"#ed7953\"],[0.7777777777777778,\"#fb9f3a\"],[0.8888888888888888,\"#fdca26\"],[1.0,\"#f0f921\"]]}],\"heatmapgl\":[{\"type\":\"heatmapgl\",\"colorbar\":{\"outlinewidth\":0,\"ticks\":\"\"},\"colorscale\":[[0.0,\"#0d0887\"],[0.1111111111111111,\"#46039f\"],[0.2222222222222222,\"#7201a8\"],[0.3333333333333333,\"#9c179e\"],[0.4444444444444444,\"#bd3786\"],[0.5555555555555556,\"#d8576b\"],[0.6666666666666666,\"#ed7953\"],[0.7777777777777778,\"#fb9f3a\"],[0.8888888888888888,\"#fdca26\"],[1.0,\"#f0f921\"]]}],\"contourcarpet\":[{\"type\":\"contourcarpet\",\"colorbar\":{\"outlinewidth\":0,\"ticks\":\"\"}}],\"contour\":[{\"type\":\"contour\",\"colorbar\":{\"outlinewidth\":0,\"ticks\":\"\"},\"colorscale\":[[0.0,\"#0d0887\"],[0.1111111111111111,\"#46039f\"],[0.2222222222222222,\"#7201a8\"],[0.3333333333333333,\"#9c179e\"],[0.4444444444444444,\"#bd3786\"],[0.5555555555555556,\"#d8576b\"],[0.6666666666666666,\"#ed7953\"],[0.7777777777777778,\"#fb9f3a\"],[0.8888888888888888,\"#fdca26\"],[1.0,\"#f0f921\"]]}],\"surface\":[{\"type\":\"surface\",\"colorbar\":{\"outlinewidth\":0,\"ticks\":\"\"},\"colorscale\":[[0.0,\"#0d0887\"],[0.1111111111111111,\"#46039f\"],[0.2222222222222222,\"#7201a8\"],[0.3333333333333333,\"#9c179e\"],[0.4444444444444444,\"#bd3786\"],[0.5555555555555556,\"#d8576b\"],[0.6666666666666666,\"#ed7953\"],[0.7777777777777778,\"#fb9f3a\"],[0.8888888888888888,\"#fdca26\"],[1.0,\"#f0f921\"]]}],\"mesh3d\":[{\"type\":\"mesh3d\",\"colorbar\":{\"outlinewidth\":0,\"ticks\":\"\"}}],\"scatter\":[{\"fillpattern\":{\"fillmode\":\"overlay\",\"size\":10,\"solidity\":0.2},\"type\":\"scatter\"}],\"parcoords\":[{\"type\":\"parcoords\",\"line\":{\"colorbar\":{\"outlinewidth\":0,\"ticks\":\"\"}}}],\"scatterpolargl\":[{\"type\":\"scatterpolargl\",\"marker\":{\"colorbar\":{\"outlinewidth\":0,\"ticks\":\"\"}}}],\"bar\":[{\"error_x\":{\"color\":\"#2a3f5f\"},\"error_y\":{\"color\":\"#2a3f5f\"},\"marker\":{\"line\":{\"color\":\"#E5ECF6\",\"width\":0.5},\"pattern\":{\"fillmode\":\"overlay\",\"size\":10,\"solidity\":0.2}},\"type\":\"bar\"}],\"scattergeo\":[{\"type\":\"scattergeo\",\"marker\":{\"colorbar\":{\"outlinewidth\":0,\"ticks\":\"\"}}}],\"scatterpolar\":[{\"type\":\"scatterpolar\",\"marker\":{\"colorbar\":{\"outlinewidth\":0,\"ticks\":\"\"}}}],\"histogram\":[{\"marker\":{\"pattern\":{\"fillmode\":\"overlay\",\"size\":10,\"solidity\":0.2}},\"type\":\"histogram\"}],\"scattergl\":[{\"type\":\"scattergl\",\"marker\":{\"colorbar\":{\"outlinewidth\":0,\"ticks\":\"\"}}}],\"scatter3d\":[{\"type\":\"scatter3d\",\"line\":{\"colorbar\":{\"outlinewidth\":0,\"ticks\":\"\"}},\"marker\":{\"colorbar\":{\"outlinewidth\":0,\"ticks\":\"\"}}}],\"scattermapbox\":[{\"type\":\"scattermapbox\",\"marker\":{\"colorbar\":{\"outlinewidth\":0,\"ticks\":\"\"}}}],\"scatterternary\":[{\"type\":\"scatterternary\",\"marker\":{\"colorbar\":{\"outlinewidth\":0,\"ticks\":\"\"}}}],\"scattercarpet\":[{\"type\":\"scattercarpet\",\"marker\":{\"colorbar\":{\"outlinewidth\":0,\"ticks\":\"\"}}}],\"carpet\":[{\"aaxis\":{\"endlinecolor\":\"#2a3f5f\",\"gridcolor\":\"white\",\"linecolor\":\"white\",\"minorgridcolor\":\"white\",\"startlinecolor\":\"#2a3f5f\"},\"baxis\":{\"endlinecolor\":\"#2a3f5f\",\"gridcolor\":\"white\",\"linecolor\":\"white\",\"minorgridcolor\":\"white\",\"startlinecolor\":\"#2a3f5f\"},\"type\":\"carpet\"}],\"table\":[{\"cells\":{\"fill\":{\"color\":\"#EBF0F8\"},\"line\":{\"color\":\"white\"}},\"header\":{\"fill\":{\"color\":\"#C8D4E3\"},\"line\":{\"color\":\"white\"}},\"type\":\"table\"}],\"barpolar\":[{\"marker\":{\"line\":{\"color\":\"#E5ECF6\",\"width\":0.5},\"pattern\":{\"fillmode\":\"overlay\",\"size\":10,\"solidity\":0.2}},\"type\":\"barpolar\"}],\"pie\":[{\"automargin\":true,\"type\":\"pie\"}]},\"layout\":{\"autotypenumbers\":\"strict\",\"colorway\":[\"#636efa\",\"#EF553B\",\"#00cc96\",\"#ab63fa\",\"#FFA15A\",\"#19d3f3\",\"#FF6692\",\"#B6E880\",\"#FF97FF\",\"#FECB52\"],\"font\":{\"color\":\"#2a3f5f\"},\"hovermode\":\"closest\",\"hoverlabel\":{\"align\":\"left\"},\"paper_bgcolor\":\"white\",\"plot_bgcolor\":\"#E5ECF6\",\"polar\":{\"bgcolor\":\"#E5ECF6\",\"angularaxis\":{\"gridcolor\":\"white\",\"linecolor\":\"white\",\"ticks\":\"\"},\"radialaxis\":{\"gridcolor\":\"white\",\"linecolor\":\"white\",\"ticks\":\"\"}},\"ternary\":{\"bgcolor\":\"#E5ECF6\",\"aaxis\":{\"gridcolor\":\"white\",\"linecolor\":\"white\",\"ticks\":\"\"},\"baxis\":{\"gridcolor\":\"white\",\"linecolor\":\"white\",\"ticks\":\"\"},\"caxis\":{\"gridcolor\":\"white\",\"linecolor\":\"white\",\"ticks\":\"\"}},\"coloraxis\":{\"colorbar\":{\"outlinewidth\":0,\"ticks\":\"\"}},\"colorscale\":{\"sequential\":[[0.0,\"#0d0887\"],[0.1111111111111111,\"#46039f\"],[0.2222222222222222,\"#7201a8\"],[0.3333333333333333,\"#9c179e\"],[0.4444444444444444,\"#bd3786\"],[0.5555555555555556,\"#d8576b\"],[0.6666666666666666,\"#ed7953\"],[0.7777777777777778,\"#fb9f3a\"],[0.8888888888888888,\"#fdca26\"],[1.0,\"#f0f921\"]],\"sequentialminus\":[[0.0,\"#0d0887\"],[0.1111111111111111,\"#46039f\"],[0.2222222222222222,\"#7201a8\"],[0.3333333333333333,\"#9c179e\"],[0.4444444444444444,\"#bd3786\"],[0.5555555555555556,\"#d8576b\"],[0.6666666666666666,\"#ed7953\"],[0.7777777777777778,\"#fb9f3a\"],[0.8888888888888888,\"#fdca26\"],[1.0,\"#f0f921\"]],\"diverging\":[[0,\"#8e0152\"],[0.1,\"#c51b7d\"],[0.2,\"#de77ae\"],[0.3,\"#f1b6da\"],[0.4,\"#fde0ef\"],[0.5,\"#f7f7f7\"],[0.6,\"#e6f5d0\"],[0.7,\"#b8e186\"],[0.8,\"#7fbc41\"],[0.9,\"#4d9221\"],[1,\"#276419\"]]},\"xaxis\":{\"gridcolor\":\"white\",\"linecolor\":\"white\",\"ticks\":\"\",\"title\":{\"standoff\":15},\"zerolinecolor\":\"white\",\"automargin\":true,\"zerolinewidth\":2},\"yaxis\":{\"gridcolor\":\"white\",\"linecolor\":\"white\",\"ticks\":\"\",\"title\":{\"standoff\":15},\"zerolinecolor\":\"white\",\"automargin\":true,\"zerolinewidth\":2},\"scene\":{\"xaxis\":{\"backgroundcolor\":\"#E5ECF6\",\"gridcolor\":\"white\",\"linecolor\":\"white\",\"showbackground\":true,\"ticks\":\"\",\"zerolinecolor\":\"white\",\"gridwidth\":2},\"yaxis\":{\"backgroundcolor\":\"#E5ECF6\",\"gridcolor\":\"white\",\"linecolor\":\"white\",\"showbackground\":true,\"ticks\":\"\",\"zerolinecolor\":\"white\",\"gridwidth\":2},\"zaxis\":{\"backgroundcolor\":\"#E5ECF6\",\"gridcolor\":\"white\",\"linecolor\":\"white\",\"showbackground\":true,\"ticks\":\"\",\"zerolinecolor\":\"white\",\"gridwidth\":2}},\"shapedefaults\":{\"line\":{\"color\":\"#2a3f5f\"}},\"annotationdefaults\":{\"arrowcolor\":\"#2a3f5f\",\"arrowhead\":0,\"arrowwidth\":1},\"geo\":{\"bgcolor\":\"white\",\"landcolor\":\"#E5ECF6\",\"subunitcolor\":\"white\",\"showland\":true,\"showlakes\":true,\"lakecolor\":\"white\"},\"title\":{\"x\":0.05},\"mapbox\":{\"style\":\"light\"},\"margin\":{\"b\":0,\"l\":0,\"r\":0,\"t\":30}}},\"xaxis\":{\"anchor\":\"y\",\"domain\":[0.0,1.0],\"title\":{\"text\":\"Relative Day\"}},\"yaxis\":{\"anchor\":\"x\",\"domain\":[0.0,1.0],\"title\":{\"text\":\"% Patients\"}},\"legend\":{\"title\":{\"text\":\"Smartphone Type\"},\"tracegroupgap\":0},\"title\":{\"text\":\"GPS coverage by Smartphone Type\"}},                        {\"responsive\": true}                    ).then(function(){\n",
       "                            \n",
       "var gd = document.getElementById('ac0a79a3-41e8-421c-ac6e-d49ec49a9d5f');\n",
       "var x = new MutationObserver(function (mutations, observer) {{\n",
       "        var display = window.getComputedStyle(gd).display;\n",
       "        if (!display || display === 'none') {{\n",
       "            console.log([gd, 'removed!']);\n",
       "            Plotly.purge(gd);\n",
       "            observer.disconnect();\n",
       "        }}\n",
       "}});\n",
       "\n",
       "// Listen for the removal of the full notebook cells\n",
       "var notebookContainer = gd.closest('#notebook-container');\n",
       "if (notebookContainer) {{\n",
       "    x.observe(notebookContainer, {childList: true});\n",
       "}}\n",
       "\n",
       "// Listen for the clearing of the current output cell\n",
       "var outputEl = gd.closest('.output');\n",
       "if (outputEl) {{\n",
       "    x.observe(outputEl, {childList: true});\n",
       "}}\n",
       "\n",
       "                        })                };                });            </script>        </div>"
      ]
     },
     "metadata": {},
     "output_type": "display_data"
    }
   ],
   "source": [
    "# Calculate the total number of unique customers in each category from the updated DataFrame\n",
    "total_customers_by_category = df_gps_merged_active.groupby('ema_smartphone_description')['customer'].nunique()\n",
    "\n",
    "# Calculate the number of unique customers per day for each category from the updated DataFrame\n",
    "category_customer_data = df_gps_merged_active.groupby(['relative_day', 'ema_smartphone_description'])['customer'].nunique().reset_index()\n",
    "\n",
    "# Calculate percentages for each category\n",
    "category_customer_data['percentage_of_customers'] = category_customer_data.apply(\n",
    "    lambda row: (row['customer'] / total_customers_by_category[row['ema_smartphone_description']]) * 100, axis=1)\n",
    "\n",
    "# Create a DataFrame with all days from 1 to 100 for merging\n",
    "all_days = pd.DataFrame({'relative_day': range(1, 101)})\n",
    "\n",
    "# Merge to ensure every day is represented in each category, fill missing values with 0\n",
    "plot_data = pd.DataFrame()  # Initialize an empty DataFrame to store the merged data\n",
    "for category in category_customer_data['ema_smartphone_description'].unique():\n",
    "    temp_data = category_customer_data[category_customer_data['ema_smartphone_description'] == category]\n",
    "    merged_data = all_days.merge(temp_data[['relative_day', 'percentage_of_customers']], on='relative_day', how='left').fillna(0)\n",
    "    merged_data['ema_smartphone_description'] = category\n",
    "    plot_data = pd.concat([plot_data, merged_data])\n",
    "\n",
    "# Create the line plot\n",
    "fig = px.line(plot_data,\n",
    "              x='relative_day',\n",
    "              y='percentage_of_customers',\n",
    "              color='ema_smartphone_description',\n",
    "              title='GPS coverage by Smartphone Type',\n",
    "              labels={'percentage_of_customers': '% Patients', 'relative_day': 'Relative Day'},\n",
    "              markers=True)\n",
    "\n",
    "# Update the layout to adjust legend and traces\n",
    "fig.update_layout(legend_title_text='Smartphone Type')\n",
    "fig.update_traces(mode='lines+markers')\n",
    "\n",
    "fig.show()"
   ]
  },
  {
   "cell_type": "code",
   "execution_count": 21,
   "metadata": {},
   "outputs": [],
   "source": []
  }
 ],
 "metadata": {
  "kernelspec": {
   "display_name": "Python 3 (ipykernel)",
   "language": "python",
   "name": "python3"
  },
  "language_info": {
   "codemirror_mode": {
    "name": "ipython",
    "version": 3
   },
   "file_extension": ".py",
   "mimetype": "text/x-python",
   "name": "python",
   "nbconvert_exporter": "python",
   "pygments_lexer": "ipython3",
   "version": "3.11.5"
  }
 },
 "nbformat": 4,
 "nbformat_minor": 2
}
